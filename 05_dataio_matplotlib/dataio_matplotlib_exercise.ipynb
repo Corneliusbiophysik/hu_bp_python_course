{
 "cells": [
  {
   "cell_type": "markdown",
   "metadata": {},
   "source": [
    "# Exercise 1: reading FASTA files"
   ]
  },
  {
   "cell_type": "markdown",
   "metadata": {},
   "source": [
    "The [FASTA](http://en.wikipedia.org/wiki/FASTA_format)-format is a text-based format for nucleotide and protein sequences. A FASTA File begins with a single line description which is indicated by a leading \">\".\n",
    "\n",
    "Example:\n",
    "\n",
    "> \\>gi|31563518|ref|NP_852610.1| microtubule-associated proteins 1A/1B light chain 3A isoform b [Homo sapiens] MKMRFFSSPCGKAAVDPADRCKEVQQIRDQHPSKIPVIIERYKGEKQLPVLDKTKFLVPDHVNMSELVKIIRRRLQLNPTQAFFLLVNQHSMVSVSTPIADIYEQEKDEDGFLYMVYASQETFGFIRENE\n",
    "\n",
    "* parse the nucleotide sequence in the file `GPD1_seq.fasta` (omit the description line)\n",
    "* write a function `compute_nt_composition( sequence )`, which returns a dictionary containing the number of ocurrences for each base in a given sequence\n",
    "* compute the nucleotide composition of the GDP1 protein and pickle the result to a file\n"
   ]
  },
  {
   "cell_type": "code",
   "execution_count": 22,
   "metadata": {
    "collapsed": false
   },
   "outputs": [
    {
     "name": "stdout",
     "output_type": "stream",
     "text": [
      "ATGTCTGCTGCTGCTGATAGATTAAACTTAACTTCCGGCCACTTGAATGCTGGTAGAAAGAGAAGTTCCTCTTCTGTTTCTTTGAAGGCTGCCGAAAAGCCTTTCAAGGTTACTGTGATTGGATCTGGTAACTGGGGTACTACTATTGCCAAGGTGGTTGCCGAAAATTGTAAGGGATACCCAGAAGTTTTCGCTCCAATAGTACAAATGTGGGTGTTCGAAGAAGAGATCAATGGTGAAAAATTGACTGAAATCATAAATACTAGACATCAAAACGTGAAATACTTGCCTGGCATCACTCTACCCGACAATTTGGTTGCTAATCCAGACTTGATTGATTCAGTCAAGGATGTCGACATCATCGTTTTCAACATTCCACATCAATTTTTGCCCCGTATCTGTAGCCAATTGAAAGGTCATGTTGATTCACACGTCAGAGCTATCTCCTGTCTAAAGGGTTTTGAAGTTGGTGCTAAAGGTGTCCAATTGCTATCCTCTTACATCACTGAGGAACTAGGTATTCAATGTGGTGCTCTATCTGGTGCTAACATTGCCACCGAAGTCGCTCAAGAACACTGGTCTGAAACAACAGTTGCTTACCACATTCCAAAGGATTTCAGAGGCGAGGGCAAGGACGTCGACCATAAGGTTCTAAAGGCCTTGTTCCACAGACCTTACTTCCACGTTAGTGTCATCGAAGATGTTGCTGGTATCTCCATCTGTGGTGCTTTGAAGAACGTTGTTGCCTTAGGTTGTGGTTTCGTCGAAGGTCTAGGCTGGGGTAACAACGCTTCTGCTGCCATCCAAAGAGTCGGTTTGGGTGAGATCATCAGATTCGGTCAAATGTTTTTCCCAGAATCTAGAGAAGAAACATACTACCAAGAGTCTGCTGGTGTTGCTGATTTGATCACCACCTGCGCTGGTGGTAGAAACGTCAAGGTTGCTAGGCTAATGGCTACTTCTGGTAAGGACGCCTGGGAATGTGAAAAGGAGTTGTTGAATGGCCAATCCGCTCAAGGTTTAATTACCTGCAAAGAAGTTCACGAATGGTTGGAAACATGTGGCTCTGTCGAAGACTTCCCATTATTTGAAGCCGTATACCAAATCGTTTACAACAACTACCCAATGAAGAACCTGCCGGACATGATTGAAGAATTAGATCTACATGAAGATTAG\n",
      "{'A': 324, 'C': 240, 'T': 336, 'G': 276}\n"
     ]
    }
   ],
   "source": [
    "import cPickle as pickle\n",
    "\n",
    "with open('GPD1_seq.fasta', 'r') as f:\n",
    "    lines = f.readlines()\n",
    "#print lines\n",
    "\n",
    "seq = ''\n",
    "\n",
    "\n",
    "# iterate over all lines in the file\n",
    "for line in lines:\n",
    "    if line.startswith('>'): # skip first line\n",
    "        continue\n",
    "    else:\n",
    "        seq=seq + line.rstrip() # append lines\n",
    "#print seq\n",
    "\n",
    "def compute_nt_composition( sequence ):\n",
    "    base_dict = {'A': 0, 'C': 0, 'G': 0, 'T': 0}\n",
    "    for elem in sequence:\n",
    "        base_dict[elem]+=1\n",
    "    return base_dict\n",
    "\n",
    "bd=compute_nt_composition( seq )\n",
    "\n",
    "with open( 'basedict.p', 'w') as f:\n",
    "    pickle.dump( bd,f )\n",
    "#with open( 'basedict.p', 'r') as f:\n",
    "#    loaded_data=pickle.load(f)\n",
    "#print loaded_data"
   ]
  },
  {
   "cell_type": "markdown",
   "metadata": {},
   "source": [
    "# Exercise 2: Plot a histogram\n",
    "\n",
    "take the nucleotide composition of the gene above and plot a histogram of the A, T, G and C frequency. Have your histogram labeled nicely and give it a title. Please, choose yourself if you would like to display horizontal or vertical bars. Advanced options include change of color for individual bars, width of the bars and alignment of labels and bars."
   ]
  },
  {
   "cell_type": "code",
   "execution_count": 26,
   "metadata": {
    "collapsed": false
   },
   "outputs": [
    {
     "name": "stdout",
     "output_type": "stream",
     "text": [
      "<closed file 'basedict.p', mode 'r' at 0x7f1f5a808e40>\n"
     ]
    },
    {
     "data": {
      "image/png": "[encoded data removed]",
      "text/plain": [
       "<matplotlib.figure.Figure at 0x7f1f5a2acd90>"
      ]
     },
     "metadata": {},
     "output_type": "display_data"
    }
   ],
   "source": [
    "#close('all')\n",
    "%matplotlib inline \n",
    "from pylab import *\n",
    "\n",
    "#with open('basedict.p', 'r') as g:\n",
    "#    bd = g\n",
    "\n",
    "print bd\n",
    "xv=[0.5,2.5,4.5,6.5]; yv=[324,240,336,276]\n",
    "mybar = bar(xv, yv, width=1, yerr=0.5)"
   ]
  },
  {
   "cell_type": "markdown",
   "metadata": {},
   "source": [
    "# Exercise 3: Plot a scatterplot\n",
    "\n",
    "The file `mycoplasma_gene_sequences.csv` contains the genomic sequences of all *Mycoplasma genitalium* genes. The file contains two columns separated by a coma, the `WholeCellModelID` and the `Sequence`. \n",
    "\n",
    "* Read and parse the file and compute the nucleotide composition for each gene using the `compute_nt_composition( seq )` function that you have defined in Exercise 1. Collect the nucleotide compositions f Then use the scatter function to plot a scatterplot of A content versus T content for each gene (don't forget to normalize the nucleotide content by gene length).\n",
    "\n",
    "* Indicate the length of each sequence by the dot-size in the scatterplot (hint: s input of scatter function)\n",
    "\n",
    "* Plot the scatterplot for each combination of A,G,T,C (use subplot)"
   ]
  },
  {
   "cell_type": "code",
   "execution_count": 82,
   "metadata": {
    "collapsed": false
   },
   "outputs": [],
   "source": []
  },
  {
   "cell_type": "markdown",
   "metadata": {},
   "source": [
    "# Exercise 4: Plot the phasespace\n",
    "\n",
    "in the numpy tutorial yesterday, you examined how a population of predator and prey can evolve over time theoretically (Lotka-Voltera System). Today, revisit the system and plot the phase space of the two species. In a phase space we plot the two variables against each other. \n",
    "\n",
    "In a next step, imagine, we would like to visualize how different starting conditions impact population behavior. Try having different conditions in the same phase space plot."
   ]
  },
  {
   "cell_type": "code",
   "execution_count": 1,
   "metadata": {
    "collapsed": false
   },
   "outputs": [],
   "source": [
    "import scipy.integrate"
   ]
  }
 ],
 "metadata": {
  "kernelspec": {
   "display_name": "Python 2",
   "language": "python",
   "name": "python2"
  },
  "language_info": {
   "codemirror_mode": {
    "name": "ipython",
    "version": 2
   },
   "file_extension": ".py",
   "mimetype": "text/x-python",
   "name": "python",
   "nbconvert_exporter": "python",
   "pygments_lexer": "ipython2",
   "version": "2.7.6"
  }
 },
 "nbformat": 4,
 "nbformat_minor": 0
}
