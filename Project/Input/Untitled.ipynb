{
 "cells": [
  {
   "cell_type": "code",
   "execution_count": 28,
   "metadata": {
    "collapsed": false
   },
   "outputs": [
    {
     "name": "stdout",
     "output_type": "stream",
     "text": [
      "vor einlesen\n",
      "nach einlesen\n",
      "                ID    BiGG    KEGG      CAS  PubChem   3DMET  ChEBI PDB-CCD  \\\n",
      "BioCyc                                                                        \n",
      "CPD-3707    A23CMP  23camp  C02353      NaN     5400  B01564  27844     ACK   \n",
      "CPD-3706      A3MP    3amp  C01367  84-21-9     4566  B01442  28931     3AM   \n",
      "ACET            AC      ac  C00033  64-19-7     3335  B00009  15366     ACY   \n",
      "ACETALD       ACAL   acald  C00084  75-07-0     3384  B01155  15343     ACE   \n",
      "ACETYL-COA   ACCOA   accoa  C00024  72-89-9     2093  B04621  15351     ACO   \n",
      "\n",
      "             KNApSAcK    LIPID MAPS   ...    Molecular Weight  \\\n",
      "BioCyc                                ...                       \n",
      "CPD-3707          NaN           NaN   ...                 328   \n",
      "CPD-3706    C00019350           NaN   ...                 345   \n",
      "ACET        C00001176  LMFA01010002   ...                  59   \n",
      "ACETALD     C00007392           NaN   ...                  44   \n",
      "ACETYL-COA  C00007259           NaN   ...                 806   \n",
      "\n",
      "           van der Walls Volume  pKa   pI  logP   logD Lower Upper  \\\n",
      "BioCyc                                                               \n",
      "CPD-3707                    239  NaN  4,0  -4,1   -3,7   NaN   NaN   \n",
      "CPD-3706                    256  NaN  3,8  -5,2   -5,9   NaN   NaN   \n",
      "ACET                         54  NaN  NaN  -0,2   -2,8   NaN   NaN   \n",
      "ACETALD                      47  NaN  NaN  -0,4   -0,4   NaN   NaN   \n",
      "ACETYL-COA                  621  NaN  2,1  -7,2  -12,0   NaN   NaN   \n",
      "\n",
      "                             Reactions Comments  \n",
      "BioCyc                                           \n",
      "CPD-3707                         CpdB3      NaN  \n",
      "CPD-3706                         CpdB3      NaN  \n",
      "ACET                     AckA, TX_ACUP      NaN  \n",
      "ACETALD     DeoC, GlyA4, PhnX, TX_ACAL      NaN  \n",
      "ACETYL-COA                   AceE, Pta      NaN  \n",
      "\n",
      "[5 rows x 30 columns]\n"
     ]
    }
   ],
   "source": [
    "import pandas as pd\n",
    "\n",
    "print 'vor einlesen'\n",
    "genes = pd.read_csv('genes.csv',header=4, index_col=1)\n",
    "print 'nach einlesen'\n",
    "#print genes\n",
    "sequence = genes[['SwissProt','GenBank','Name','Sequence']]\n",
    "metabolite =pd.read_csv('metabolite.csv',header=4, index_col=1)\n",
    "print metabolite.head()"
   ]
  },
  {
   "cell_type": "code",
   "execution_count": null,
   "metadata": {
    "collapsed": true
   },
   "outputs": [],
   "source": []
  }
 ],
 "metadata": {
  "kernelspec": {
   "display_name": "Python 2",
   "language": "python",
   "name": "python2"
  },
  "language_info": {
   "codemirror_mode": {
    "name": "ipython",
    "version": 2
   },
   "file_extension": ".py",
   "mimetype": "text/x-python",
   "name": "python",
   "nbconvert_exporter": "python",
   "pygments_lexer": "ipython2",
   "version": "2.7.6"
  }
 },
 "nbformat": 4,
 "nbformat_minor": 0
}
