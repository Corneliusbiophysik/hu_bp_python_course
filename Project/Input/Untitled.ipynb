{
 "cells": [
  {
   "cell_type": "code",
   "execution_count": 225,
   "metadata": {
    "collapsed": false,
    "scrolled": true
   },
   "outputs": [
    {
     "name": "stdout",
     "output_type": "stream",
     "text": [
      "525\n",
      "SwissProt                                               P47247\n",
      "GenBank                                             AAC71217.1\n",
      "Name                          DNA polymerase III, beta subunit\n",
      "Sequence     ATGAAAATATTAATTAATAAAAGTGAATTGAATAAAATTTTGAAAA...\n",
      "Name: MG_001, dtype: object\n"
     ]
    }
   ],
   "source": [
    "import pandas as pd\n",
    "import sqlite3 as lite\n",
    "import cPickle as pickle\n",
    "\n",
    "\n",
    "####INput aus Excel-Tabellen\n",
    "#Einlesen der Gen-, Metabolit- und Mediumsspezifikation\n",
    "genes = pd.read_csv('genes.csv',header=4, index_col=1)\n",
    "metabolites =pd.read_csv('metabolite.csv',header=4, index_col=0, na_values=['NaN'], keep_default_na=False)\n",
    "media = pd.read_csv('media.csv',header=3,index_col=0, na_values=['NaN'],keep_default_na=False)\n",
    "mrna = pd.read_csv('mRNA.csv',header=4, index_col=0 , na_values=[' '],keep_default_na=False)\n",
    "\n",
    "#Editieren der Dataframes\n",
    "#Herauswerfen aller unwichtigen Spalten\n",
    "metabolites = metabolites['Name']\n",
    "genes = genes[['SwissProt','GenBank','Name','Sequence']]\n",
    "media = media['Concentration mM']\n",
    "mrna = mrna[['Symbol', 'Protein Halflife']]\n",
    "\n",
    "#print mrna\n",
    "#Konkatenieren der Listen an entsprechender Stelle und Herauswerfen der NaN Werte\n",
    "conc = pd.concat([metabolites, media], axis=1)\n",
    "conc = conc[pd.notnull(conc['Concentration mM'])]\n",
    "\n",
    "\n",
    "##Laden des vollstaendigen Genoms in einen Objekt\n",
    "with open('sequence.fasta','r') as f:\n",
    "\tgenome = f.readlines()\n",
    "f.close()\n",
    "#Herauswerfen der ersten Zeile und zusammenhaengen der Sequenzen in einen String\n",
    "genome = [line[:-1] for line in genome if line[0] != '>']\n",
    "genome = ''.join(genome)\n",
    "\n",
    "\n",
    "#name=genes/metabolites/media\n",
    "def writeData(data,name):\n",
    "\tf = open(name,'w')\n",
    "\twith f:\n",
    "\t\tf.write(data)\n",
    "\n",
    "print len(genes)\n",
    "print genes.iloc[0,0:5]"
   ]
  },
  {
   "cell_type": "code",
   "execution_count": null,
   "metadata": {
    "collapsed": true
   },
   "outputs": [],
   "source": [
    "#"
   ]
  }
 ],
 "metadata": {
  "kernelspec": {
   "display_name": "Python 2",
   "language": "python",
   "name": "python2"
  },
  "language_info": {
   "codemirror_mode": {
    "name": "ipython",
    "version": 2
   },
   "file_extension": ".py",
   "mimetype": "text/x-python",
   "name": "python",
   "nbconvert_exporter": "python",
   "pygments_lexer": "ipython2",
   "version": "2.7.6"
  }
 },
 "nbformat": 4,
 "nbformat_minor": 0
}
