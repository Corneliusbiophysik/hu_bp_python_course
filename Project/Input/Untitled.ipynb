{
 "cells": [
  {
   "cell_type": "code",
   "execution_count": 232,
   "metadata": {
    "collapsed": false,
    "scrolled": true
   },
   "outputs": [
    {
     "name": "stdout",
     "output_type": "stream",
     "text": [
      "Int64Index([0, 1, 2, 3, 4, 5, 6, 7, 8, 9, 10, 11, 12, 13, 14, 15, 16, 17, 18, 19, 20, 21, 22, 23, 24, 25, 26, 27, 28, 29, 30, 31, 32, 33, 34, 35, 36, 37, 38, 39, 40, 41, 42, 43, 44, 45, 46, 47, 48, 49, 50, 51, 52, 53, 54, 55, 56, 57, 58, 59, 60, 61, 62, 63, 64, 65, 66, 67, 68, 69, 70, 71, 72, 73, 74, 75, 76, 77, 78, 79, 80, 81, 82, 83, 84, 85, 86, 87, 88, 89, 90, 91, 92, 93, 94, 95, 96, 97, 98, 99, ...], dtype='int64')\n",
      "525\n",
      "ID                                     MG_001\n",
      "CMR                                    MG_001\n",
      "SwissProt                              P47247\n",
      "GenBank                            AAC71217.1\n",
      "Name         DNA polymerase III, beta subunit\n",
      "Name: 0, dtype: object\n"
     ]
    }
   ],
   "source": [
    "import pandas as pd\n",
    "import sqlite3 as lite\n",
    "import cPickle as pickle\n",
    "\n",
    "\n",
    "####INput aus Excel-Tabellen\n",
    "#Einlesen der Gen-, Metabolit- und Mediumsspezifikation\n",
    "genes = pd.read_csv('genes.csv',header=4, index_col=None)\n",
    "metabolites =pd.read_csv('metabolite.csv',header=4, index_col=0, na_values=['NaN'], keep_default_na=False)\n",
    "media = pd.read_csv('media.csv',header=3,index_col=0, na_values=['NaN'],keep_default_na=False)\n",
    "mrna = pd.read_csv('mRNA.csv',header=4, index_col=0 , na_values=[' '],keep_default_na=False)\n",
    "\n",
    "#Editieren der Dataframes\n",
    "#Herauswerfen aller unwichtigen Spalten\n",
    "metabolites = metabolites['Name']\n",
    "genes = genes[['ID','CMR', 'SwissProt','GenBank','Name','Sequence']]\n",
    "media = media['Concentration mM']\n",
    "mrna = mrna[['Symbol', 'Protein Halflife']]\n",
    "\n",
    "print genes.index\n",
    "#print mrna\n",
    "#Konkatenieren der Listen an entsprechender Stelle und Herauswerfen der NaN Werte\n",
    "conc = pd.concat([metabolites, media], axis=1)\n",
    "conc = conc[pd.notnull(conc['Concentration mM'])]\n",
    "\n",
    "\n",
    "##Laden des vollstaendigen Genoms in einen Objekt\n",
    "with open('sequence.fasta','r') as f:\n",
    "\tgenome = f.readlines()\n",
    "f.close()\n",
    "#Herauswerfen der ersten Zeile und zusammenhaengen der Sequenzen in einen String\n",
    "genome = [line[:-1] for line in genome if line[0] != '>']\n",
    "genome = ''.join(genome)\n",
    "\n",
    "\n",
    "#name=genes/metabolites/media\n",
    "def writeData(data,name):\n",
    "\tf = open(name,'w')\n",
    "\twith f:\n",
    "\t\tf.write(data)\n",
    "\n",
    "print len(genes)\n",
    "print genes.iloc[0,0:5]"
   ]
  },
  {
   "cell_type": "code",
   "execution_count": null,
   "metadata": {
    "collapsed": true
   },
   "outputs": [],
   "source": [
    "#"
   ]
  }
 ],
 "metadata": {
  "kernelspec": {
   "display_name": "Python 2",
   "language": "python",
   "name": "python2"
  },
  "language_info": {
   "codemirror_mode": {
    "name": "ipython",
    "version": 2
   },
   "file_extension": ".py",
   "mimetype": "text/x-python",
   "name": "python",
   "nbconvert_exporter": "python",
   "pygments_lexer": "ipython2",
   "version": "2.7.6"
  }
 },
 "nbformat": 4,
 "nbformat_minor": 0
}
