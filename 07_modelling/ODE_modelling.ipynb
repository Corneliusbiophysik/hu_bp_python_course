{
 "cells": [
  {
   "cell_type": "markdown",
   "metadata": {},
   "source": [
    "# Modelling with Python\n",
    "## 21/05/2015 \n",
    "### Jens Hahn"
   ]
  },
  {
   "cell_type": "markdown",
   "metadata": {},
   "source": [
    "## 1. Continuous deterministic modelling\n",
    "### Ordinary differential equations (ODE)"
   ]
  },
  {
   "cell_type": "markdown",
   "metadata": {},
   "source": [
    "In this first part, we want to have a look on ODE models. These models are deterministic, meaning every simulation\n",
    "will get you the same results, the future of the system is only determined by the initial values you set.   \n",
    "Besides that, these models use continuous values, not integers.    \n",
    "Maybe you're wondering how these models could possibly describe biology? Well, you can use this method for concentrations and very large numbers, for example in *metabolism*. "
   ]
  },
  {
   "cell_type": "markdown",
   "metadata": {},
   "source": [
    "### Let's start\n",
    "We begin with a very simple reaction, a molecule A and a molecule B react to a molecule C in a reversible reaction:\n",
    "$$\\textrm{A} + \\textrm{B} \\rightleftharpoons \\textrm{C}$$"
   ]
  },
  {
   "cell_type": "markdown",
   "metadata": {},
   "source": [
    "#### Kinetic Rate Law\n",
    "What we will need know is a formalism to describe this reaction, probably you have already heard about **Michaelis-Menten kinetics**. Nonetheless, here we want to start with the easiest possible reaction type: **Mass Action Kinetics**. You just multiply the concentrations of the reaction partners and a parameter describing the kinetic of the reaction.\n",
    "The forward reaction is $\\textrm{A} + \\textrm{B} \\rightarrow \\textrm{C}$ so we can define a reaction $\\textrm{v}_1$:\n",
    "$$\\textrm{v}_1 = [\\textrm{A}] \\times [\\textrm{B}] \\times \\textrm{k}_1$$\n",
    "we do the same for the backward reaction:\n",
    "$$\\textrm{v}_2 = [\\textrm{C}] \\times \\textrm{k}_2$$"
   ]
  },
  {
   "cell_type": "markdown",
   "metadata": {},
   "source": [
    "#### Reactions Equations\n",
    "Now we want to write down the *differential equations* themselves. \n",
    "Let's start with the changing rate of the concentration of species A:\n",
    "$$\\frac{\\textrm{d}[A]}{\\textrm{dt}} = - \\textrm{v}_1 + \\textrm{v}_2$$\n",
    "Got the idea? Then write down the equations for B and C on your own."
   ]
  },
  {
   "cell_type": "markdown",
   "metadata": {},
   "source": [
    "#### Simulation algoritm\n",
    "Simple *Euler* method:\n",
    "Maybe you already know about this method, otherwise I will give you some hints. \n",
    "The differential equation describes the change of a species in an infinitesimal small time step. You want to simulate it \n",
    "numerically, that means, you want to have a quite reasonable approximation to the solution. \n",
    "I don't want to spoil everything, but what will happen when you multiply both sides of the equation with a small time step? "
   ]
  },
  {
   "cell_type": "markdown",
   "metadata": {},
   "source": [
    "The only thing missing now are the initial values and parameter values for out model. Well, here they are:\n",
    "Initial Values\n",
    "$$[A](0) = 3.0 \\textrm{ mM}$$\n",
    "$$[B](0) = 2.0 \\textrm{ mM}$$\n",
    "$$[C](0) = 2.5 \\textrm{ mM}$$\n",
    "\n",
    "$$\\textrm{k}_1 = 0.2 \\ \\frac{1}{\\textrm{mM}\\times\\textrm{s}}$$\n",
    "\n",
    "$$\\textrm{k}_2 = 0.1 \\ \\frac{1}{\\textrm{mM}}$$\n"
   ]
  },
  {
   "cell_type": "markdown",
   "metadata": {},
   "source": [
    "#### Python\n",
    "Let's start the simulation. We begin with defining the initial states and the paramters:"
   ]
  },
  {
   "cell_type": "code",
   "execution_count": 22,
   "metadata": {
    "collapsed": false
   },
   "outputs": [
    {
     "name": "stdout",
     "output_type": "stream",
     "text": [
      "(4.65, 0.65, 6.85)\n",
      "(4.7305, 0.7304999999999999, 6.7695)\n",
      "(4.7163239500000005, 0.71632395, 6.7836760499999995)\n",
      "(4.71900839473128, 0.7190083947312794, 6.78099160526872)\n",
      "(4.718506225134318, 0.7185062251343175, 6.781493774865682)\n",
      "(4.718600383402078, 0.7186003834020783, 6.781399616597922)\n",
      "(4.718582736135085, 0.718582736135085, 6.781417263864915)\n",
      "(4.718586043879231, 0.7185860438792314, 6.781413956120769)\n",
      "(4.718585423896322, 0.7185854238963223, 6.781414576103678)\n",
      "(4.718585540102381, 0.718585540102381, 6.781414459897619)\n",
      "(4.718585518321392, 0.7185855183213922, 6.781414481678608)\n",
      "(4.718585522403894, 0.7185855224038945, 6.781414477596106)\n",
      "(4.718585521638694, 0.7185855216386938, 6.781414478361306)\n",
      "(4.718585521782119, 0.7185855217821187, 6.781414478217881)\n",
      "(4.718585521755236, 0.7185855217552359, 6.781414478244764)\n",
      "(4.718585521760275, 0.7185855217602746, 6.781414478239725)\n",
      "(4.718585521759331, 0.7185855217593302, 6.781414478240669)\n",
      "(4.718585521759508, 0.7185855217595071, 6.781414478240492)\n",
      "(4.718585521759475, 0.718585521759474, 6.781414478240525)\n",
      "(4.718585521759481, 0.7185855217594801, 6.781414478240519)\n",
      "(4.71858552175948, 0.718585521759479, 6.78141447824052)\n",
      "(4.71858552175948, 0.7185855217594791, 6.78141447824052)\n",
      "(4.71858552175948, 0.7185855217594792, 6.78141447824052)\n",
      "(4.71858552175948, 0.7185855217594792, 6.78141447824052)\n",
      "(4.71858552175948, 0.7185855217594792, 6.78141447824052)\n",
      "(4.71858552175948, 0.7185855217594792, 6.78141447824052)\n",
      "(4.71858552175948, 0.7185855217594792, 6.78141447824052)\n",
      "(4.71858552175948, 0.7185855217594792, 6.78141447824052)\n",
      "(4.71858552175948, 0.7185855217594792, 6.78141447824052)\n",
      "(4.71858552175948, 0.7185855217594792, 6.78141447824052)\n",
      "(4.71858552175948, 0.7185855217594792, 6.78141447824052)\n",
      "(4.71858552175948, 0.7185855217594792, 6.78141447824052)\n",
      "(4.71858552175948, 0.7185855217594792, 6.78141447824052)\n",
      "(4.71858552175948, 0.7185855217594792, 6.78141447824052)\n",
      "(4.71858552175948, 0.7185855217594792, 6.78141447824052)\n",
      "(4.71858552175948, 0.7185855217594792, 6.78141447824052)\n",
      "(4.71858552175948, 0.7185855217594792, 6.78141447824052)\n",
      "(4.71858552175948, 0.7185855217594792, 6.78141447824052)\n",
      "(4.71858552175948, 0.7185855217594792, 6.78141447824052)\n",
      "(4.71858552175948, 0.7185855217594792, 6.78141447824052)\n",
      "(4.71858552175948, 0.7185855217594792, 6.78141447824052)\n",
      "(4.71858552175948, 0.7185855217594792, 6.78141447824052)\n",
      "(4.71858552175948, 0.7185855217594792, 6.78141447824052)\n",
      "(4.71858552175948, 0.7185855217594792, 6.78141447824052)\n",
      "(4.71858552175948, 0.7185855217594792, 6.78141447824052)\n",
      "(4.71858552175948, 0.7185855217594792, 6.78141447824052)\n",
      "(4.71858552175948, 0.7185855217594792, 6.78141447824052)\n",
      "(4.71858552175948, 0.7185855217594792, 6.78141447824052)\n",
      "(4.71858552175948, 0.7185855217594792, 6.78141447824052)\n",
      "(4.71858552175948, 0.7185855217594792, 6.78141447824052)\n"
     ]
    }
   ],
   "source": [
    "import numpy as np\n",
    "# initial parameters\n",
    "k1=0.2\n",
    "k2=0.1\n",
    "A0=5.0\n",
    "B0=1.0\n",
    "C0=6.5\n",
    "times=np.arange(0,5,0.1)\n",
    "\n",
    "# initialise solutions for plotting\n",
    "sol_list = {}\n",
    "sol_list['time'] = times\n",
    "sol_list['A'] = []\n",
    "sol_list['B'] = []\n",
    "sol_list['C'] = []\n",
    "\n",
    "# function to return changes\n",
    "def change_ret():\n",
    "    # reactions\n",
    "    v1 = k1 * A0 * B0\n",
    "    v2 = k2 * C0\n",
    "    dadt = -v1 + v2\n",
    "    dbdt = -v1 + v2\n",
    "    dcdt = v1 - v2\n",
    "    return dadt, dbdt, dcdt\n",
    "\n",
    "# simulation loops\n",
    "for time in times:\n",
    "    sol_list['A'].append(A0)\n",
    "    sol_list['B'].append(B0)\n",
    "    sol_list['C'].append(C0)\n",
    "    \n",
    "    dadt, dbdt, dcdt = change_ret()\n",
    "    #v1 = k1 * A0 * B0\n",
    "    #v2 = k2 * C0\n",
    "    #dadt = -v1 + v2\n",
    "    #dbdt = -v1 + v2\n",
    "    #dcdt = v1 - v2\n",
    "    \n",
    "    A0 += dadt\n",
    "    B0 += dbdt\n",
    "    C0 += dcdt\n",
    "    print(A0, B0, C0)\n",
    "\n",
    "\n",
    "# plotting of results\n",
    "import matplotlib.pyplot as plt\n",
    "\n",
    "plt.plot(sol_list['time'], sol_list['A'], label='[A]')\n",
    "plt.plot(sol_list['time'], sol_list['B'], label='[B]')\n",
    "plt.plot(sol_list['time'], sol_list['C'], label='[C]')\n",
    "plt.xlabel('time [sec]')\n",
    "plt.ylabel('concentration [mM]')\n",
    "#plt.legend(loc='best', prop={'size': 10})\n",
    "plt.show()\n",
    "\n"
   ]
  },
  {
   "cell_type": "markdown",
   "metadata": {},
   "source": [
    "Now it's your turn! What do we need to simulate our model for... let's say 100 seconds?\n",
    "\n",
    "Here some help:\n",
    "1. The simulation time\n",
    "2. Lists to save the simulation results\n",
    "3. A function to update the concentrations (based on the reactions)\n",
    "4. A loop to start the function again and again\n",
    "5. Some **matplotlib** to visualise the results"
   ]
  },
  {
   "cell_type": "code",
   "execution_count": null,
   "metadata": {
    "collapsed": true
   },
   "outputs": [],
   "source": []
  },
  {
   "cell_type": "code",
   "execution_count": null,
   "metadata": {
    "collapsed": true
   },
   "outputs": [],
   "source": []
  }
 ],
 "metadata": {
  "kernelspec": {
   "display_name": "Python 2",
   "language": "python",
   "name": "python2"
  },
  "language_info": {
   "codemirror_mode": {
    "name": "ipython",
    "version": 2
   },
   "file_extension": ".py",
   "mimetype": "text/x-python",
   "name": "python",
   "nbconvert_exporter": "python",
   "pygments_lexer": "ipython2",
   "version": "2.7.6"
  }
 },
 "nbformat": 4,
 "nbformat_minor": 0
}
