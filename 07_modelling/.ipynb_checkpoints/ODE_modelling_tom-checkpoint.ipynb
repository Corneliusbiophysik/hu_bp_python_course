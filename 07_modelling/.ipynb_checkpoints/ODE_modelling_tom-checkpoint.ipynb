{
 "cells": [
  {
   "cell_type": "markdown",
   "metadata": {},
   "source": [
    "# Modelling with Python\n",
    "## 21/05/2015 \n",
    "### Jens Hahn"
   ]
  },
  {
   "cell_type": "markdown",
   "metadata": {},
   "source": [
    "## 1. Continuous deterministic modelling\n",
    "### Ordinary differential equations (ODE)"
   ]
  },
  {
   "cell_type": "markdown",
   "metadata": {},
   "source": [
    "In this first part, we want to have a look on ODE models. These models are deterministic, meaning every simulation\n",
    "will get you the same results, the future of the system is only determined by the initial values you set.   \n",
    "Besides that, these models use continuous values, not integers.    \n",
    "Maybe you're wondering how these models could possibly describe biology? Well, you can use this method for concentrations and very large numbers, for example in *metabolism*. "
   ]
  },
  {
   "cell_type": "markdown",
   "metadata": {},
   "source": [
    "### Let's start\n",
    "We begin with a very simple reaction, a molecule A and a molecule B react to a molecule C in a reversible reaction:\n",
    "$$\\textrm{A} + \\textrm{B} \\rightleftharpoons \\textrm{C}$$"
   ]
  },
  {
   "cell_type": "markdown",
   "metadata": {},
   "source": [
    "#### Kinetic Rate Law\n",
    "What we will need know is a formalism to describe this reaction, probably you have already heard about **Michaelis-Menten kinetics**. Nonetheless, here we want to start with the easiest possible reaction type: **Mass Action Kinetics**. You just multiply the concentrations of the reaction partners and a parameter describing the kinetic of the reaction.\n",
    "The forward reaction is $\\textrm{A} + \\textrm{B} \\rightarrow \\textrm{C}$ so we can define a reaction $\\textrm{v}_1$:\n",
    "$$\\textrm{v}_1 = [\\textrm{A}] \\times [\\textrm{B}] \\times \\textrm{k}_1$$\n",
    "we do the same for the backward reaction:\n",
    "$$\\textrm{v}_2 = [\\textrm{C}] \\times \\textrm{k}_2$$"
   ]
  },
  {
   "cell_type": "markdown",
   "metadata": {},
   "source": [
    "#### Reactions Equations\n",
    "Now we want to write down the *differential equations* themselves. \n",
    "Let's start with the changing rate of the concentration of species A:\n",
    "$$\\frac{\\textrm{d}[A]}{\\textrm{dt}} = - \\textrm{v}_1 + \\textrm{v}_2$$\n",
    "Got the idea? Then write down the equations for B and C on your own."
   ]
  },
  {
   "cell_type": "markdown",
   "metadata": {},
   "source": [
    "#### Simulation algoritm\n",
    "Simple *Euler* method:\n",
    "Maybe you already know about this method, otherwise I will give you some hints. \n",
    "The differential equation describes the change of a species in an infinitesimal small time step. You want to simulate it \n",
    "numerically, that means, you want to have a quite reasonable approximation to the solution. \n",
    "I don't want to spoil everything, but what will happen when you multiply both sides of the equation with a small time step? "
   ]
  },
  {
   "cell_type": "markdown",
   "metadata": {},
   "source": [
    "The only thing missing now are the initial values and parameter values for out model. Well, here they are:\n",
    "Initial Values\n",
    "$$[A](0) = 3.0 \\textrm{ mM}$$\n",
    "$$[B](0) = 2.0 \\textrm{ mM}$$\n",
    "$$[C](0) = 2.5 \\textrm{ mM}$$\n",
    "\n",
    "$$\\textrm{k}_1 = 0.2 \\ \\frac{1}{\\textrm{mM}\\times\\textrm{s}}$$\n",
    "\n",
    "$$\\textrm{k}_2 = 0.1 \\ \\frac{1}{\\textrm{s}}$$\n"
   ]
  },
  {
   "cell_type": "markdown",
   "metadata": {},
   "source": [
    "#### Python\n",
    "Let's start the simulation. We begin with defining the initial states and the paramters:"
   ]
  },
  {
   "cell_type": "code",
   "execution_count": 3,
   "metadata": {
    "collapsed": false
   },
   "outputs": [
    {
     "name": "stdout",
     "output_type": "stream",
     "text": [
      "1000 1000\n"
     ]
    },
    {
     "data": {
      "image/png": "[encoded data removed]",
      "text/plain": [
       "<matplotlib.figure.Figure at 0x7f823d8a5ad0>"
      ]
     },
     "metadata": {},
     "output_type": "display_data"
    }
   ],
   "source": [
    "# initial parameters\n",
    "param=[0.2,0.1]\n",
    "dt=0.1\n",
    "N=1000\n",
    "# initialise solutions for plotting\n",
    "x_0=[3.,2.,2.5]\n",
    "\n",
    "# function to return changes\n",
    "def df(x,p):\n",
    "    A=x[0]\n",
    "    B=x[1]\n",
    "    C=x[2]\n",
    "    k1=p[0]\n",
    "    k2=p[1]\n",
    "    dA=(-(A*B*k1)+C*k2)\n",
    "    dB=(-(A*B*k1)+C*k2)\n",
    "    dC=((A*B*k1)-C*k2)\n",
    "    return np.array([dA,dB,dC])\n",
    "# simulation loops\n",
    "\n",
    "import numpy as np\n",
    "time=np.arange(0,N*dt,dt)\n",
    "def integrate(x_0,N,dt):\n",
    "    result=[np.array(x_0)]    \n",
    "    dt=np.array([dt,dt,dt])\n",
    "    \n",
    "    for i in range(N-1):\n",
    "        result.append(result[i]+(df(result[i],param))*np.array(dt))\n",
    "    \n",
    "    return result\n",
    "\n",
    "\n",
    "#print result\n",
    "y=np.array(integrate(x_0,N,dt))\n",
    "\n",
    "\n",
    "print len(y),len(time)\n",
    "%matplotlib inline\n",
    "from matplotlib import pyplot as plt\n",
    "\n",
    "\n",
    "#plotting of results\n",
    "plt.plot(time,y)\n",
    "plt.show()\n",
    "\n",
    "\n"
   ]
  },
  {
   "cell_type": "markdown",
   "metadata": {},
   "source": [
    "Now it's your turn! What do we need to simulate our model for... let's say 100 seconds?\n",
    "\n",
    "Here some help:\n",
    "1. The simulation time\n",
    "2. Lists to save the simulation results\n",
    "3. A function to update the concentrations (based on the reactions)\n",
    "4. A loop to start the function again and again\n",
    "5. Some **matplotlib** to visualise the results"
   ]
  },
  {
   "cell_type": "code",
   "execution_count": null,
   "metadata": {
    "collapsed": true
   },
   "outputs": [],
   "source": []
  }
 ],
 "metadata": {
  "kernelspec": {
   "display_name": "Python 2",
   "language": "python",
   "name": "python2"
  },
  "language_info": {
   "codemirror_mode": {
    "name": "ipython",
    "version": 2
   },
   "file_extension": ".py",
   "mimetype": "text/x-python",
   "name": "python",
   "nbconvert_exporter": "python",
   "pygments_lexer": "ipython2",
   "version": "2.7.6"
  }
 },
 "nbformat": 4,
 "nbformat_minor": 0
}
