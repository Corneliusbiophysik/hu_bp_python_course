{
 "cells": [
  {
   "cell_type": "markdown",
   "metadata": {},
   "source": [
    "# Exercises"
   ]
  },
  {
   "cell_type": "code",
   "execution_count": 1,
   "metadata": {
    "collapsed": false
   },
   "outputs": [],
   "source": [
    "import pandas as pd\n",
    "from matplotlib import pyplot as plt\n",
    "plt.style.use('ggplot')\n",
    "%matplotlib inline\n",
    "diamonds = pd.read_csv('diamonds.csv',index_col=0)"
   ]
  },
  {
   "cell_type": "markdown",
   "metadata": {},
   "source": [
    "### Task 1: Find all the diamonds with more than 2 carat and plot their price distribution in a histogram"
   ]
  },
  {
   "cell_type": "code",
   "execution_count": 2,
   "metadata": {
    "collapsed": false
   },
   "outputs": [
    {
     "name": "stdout",
     "output_type": "stream",
     "text": [
      "       carat        cut color clarity  depth  table  price     x     y     z\n",
      "1       0.23      Ideal     E     SI2   61.5     55    326  3.95  3.98  2.43\n",
      "2       0.21    Premium     E     SI1   59.8     61    326  3.89  3.84  2.31\n",
      "3       0.23       Good     E     VS1   56.9     65    327  4.05  4.07  2.31\n",
      "4       0.29    Premium     I     VS2   62.4     58    334  4.20  4.23  2.63\n",
      "5       0.31       Good     J     SI2   63.3     58    335  4.34  4.35  2.75\n",
      "6       0.24  Very Good     J    VVS2   62.8     57    336  3.94  3.96  2.48\n",
      "7       0.24  Very Good     I    VVS1   62.3     57    336  3.95  3.98  2.47\n",
      "8       0.26  Very Good     H     SI1   61.9     55    337  4.07  4.11  2.53\n",
      "9       0.22       Fair     E     VS2   65.1     61    337  3.87  3.78  2.49\n",
      "10      0.23  Very Good     H     VS1   59.4     61    338  4.00  4.05  2.39\n",
      "11      0.30       Good     J     SI1   64.0     55    339  4.25  4.28  2.73\n",
      "12      0.23      Ideal     J     VS1   62.8     56    340  3.93  3.90  2.46\n",
      "13      0.22    Premium     F     SI1   60.4     61    342  3.88  3.84  2.33\n",
      "14      0.31      Ideal     J     SI2   62.2     54    344  4.35  4.37  2.71\n",
      "15      0.20    Premium     E     SI2   60.2     62    345  3.79  3.75  2.27\n",
      "16      0.32    Premium     E      I1   60.9     58    345  4.38  4.42  2.68\n",
      "17      0.30      Ideal     I     SI2   62.0     54    348  4.31  4.34  2.68\n",
      "18      0.30       Good     J     SI1   63.4     54    351  4.23  4.29  2.70\n",
      "19      0.30       Good     J     SI1   63.8     56    351  4.23  4.26  2.71\n",
      "20      0.30  Very Good     J     SI1   62.7     59    351  4.21  4.27  2.66\n",
      "21      0.30       Good     I     SI2   63.3     56    351  4.26  4.30  2.71\n",
      "22      0.23  Very Good     E     VS2   63.8     55    352  3.85  3.92  2.48\n",
      "23      0.23  Very Good     H     VS1   61.0     57    353  3.94  3.96  2.41\n",
      "24      0.31  Very Good     J     SI1   59.4     62    353  4.39  4.43  2.62\n",
      "25      0.31  Very Good     J     SI1   58.1     62    353  4.44  4.47  2.59\n",
      "26      0.23  Very Good     G    VVS2   60.4     58    354  3.97  4.01  2.41\n",
      "27      0.24    Premium     I     VS1   62.5     57    355  3.97  3.94  2.47\n",
      "28      0.30  Very Good     J     VS2   62.2     57    357  4.28  4.30  2.67\n",
      "29      0.23  Very Good     D     VS2   60.5     61    357  3.96  3.97  2.40\n",
      "30      0.23  Very Good     F     VS1   60.9     57    357  3.96  3.99  2.42\n",
      "...      ...        ...   ...     ...    ...    ...    ...   ...   ...   ...\n",
      "53911   0.70    Premium     E     SI1   60.5     58   2753  5.74  5.77  3.48\n",
      "53912   0.57    Premium     E      IF   59.8     60   2753  5.43  5.38  3.23\n",
      "53913   0.61    Premium     F    VVS1   61.8     59   2753  5.48  5.40  3.36\n",
      "53914   0.80       Good     G     VS2   64.2     58   2753  5.84  5.81  3.74\n",
      "53915   0.84       Good     I     VS1   63.7     59   2753  5.94  5.90  3.77\n",
      "53916   0.77      Ideal     E     SI2   62.1     56   2753  5.84  5.86  3.63\n",
      "53917   0.74       Good     D     SI1   63.1     59   2753  5.71  5.74  3.61\n",
      "53918   0.90  Very Good     J     SI1   63.2     60   2753  6.12  6.09  3.86\n",
      "53919   0.76    Premium     I     VS1   59.3     62   2753  5.93  5.85  3.49\n",
      "53920   0.76      Ideal     I    VVS1   62.2     55   2753  5.89  5.87  3.66\n",
      "53921   0.70  Very Good     E     VS2   62.4     60   2755  5.57  5.61  3.49\n",
      "53922   0.70  Very Good     E     VS2   62.8     60   2755  5.59  5.65  3.53\n",
      "53923   0.70  Very Good     D     VS1   63.1     59   2755  5.67  5.58  3.55\n",
      "53924   0.73      Ideal     I     VS2   61.3     56   2756  5.80  5.84  3.57\n",
      "53925   0.73      Ideal     I     VS2   61.6     55   2756  5.82  5.84  3.59\n",
      "53926   0.79      Ideal     I     SI1   61.6     56   2756  5.95  5.97  3.67\n",
      "53927   0.71      Ideal     E     SI1   61.9     56   2756  5.71  5.73  3.54\n",
      "53928   0.79       Good     F     SI1   58.1     59   2756  6.06  6.13  3.54\n",
      "53929   0.79    Premium     E     SI2   61.4     58   2756  6.03  5.96  3.68\n",
      "53930   0.71      Ideal     G     VS1   61.4     56   2756  5.76  5.73  3.53\n",
      "53931   0.71    Premium     E     SI1   60.5     55   2756  5.79  5.74  3.49\n",
      "53932   0.71    Premium     F     SI1   59.8     62   2756  5.74  5.73  3.43\n",
      "53933   0.70  Very Good     E     VS2   60.5     59   2757  5.71  5.76  3.47\n",
      "53934   0.70  Very Good     E     VS2   61.2     59   2757  5.69  5.72  3.49\n",
      "53935   0.72    Premium     D     SI1   62.7     59   2757  5.69  5.73  3.58\n",
      "53936   0.72      Ideal     D     SI1   60.8     57   2757  5.75  5.76  3.50\n",
      "53937   0.72       Good     D     SI1   63.1     55   2757  5.69  5.75  3.61\n",
      "53938   0.70  Very Good     D     SI1   62.8     60   2757  5.66  5.68  3.56\n",
      "53939   0.86    Premium     H     SI2   61.0     58   2757  6.15  6.12  3.74\n",
      "53940   0.75      Ideal     D     SI2   62.2     55   2757  5.83  5.87  3.64\n",
      "\n",
      "[53940 rows x 10 columns]\n"
     ]
    }
   ],
   "source": [
    "print diamonds\n"
   ]
  },
  {
   "cell_type": "markdown",
   "metadata": {},
   "source": [
    "### Task 2: compute and plot the standard deviation of the x dimension for the different cuts"
   ]
  },
  {
   "cell_type": "code",
   "execution_count": 120,
   "metadata": {
    "collapsed": false
   },
   "outputs": [],
   "source": []
  },
  {
   "cell_type": "markdown",
   "metadata": {},
   "source": [
    "###Task 3: Import the \"Kernmerkmale Bevölkerung (Geschlecht, Deutsche/Ausländer, 5 Altersgruppen)\" data set\n",
    "\n",
    "https://www.destatis.de/DE/PresseService/Presse/Pressekonferenzen/2013/Zensus2011/zensus_pk.html\n",
    "\n",
    "download the excel file and use the `read_excel` method in pandas (hint: useful arguments are `sheetname`, `header` and `index_col`"
   ]
  },
  {
   "cell_type": "code",
   "execution_count": 120,
   "metadata": {
    "collapsed": false
   },
   "outputs": [],
   "source": []
  },
  {
   "cell_type": "markdown",
   "metadata": {},
   "source": [
    "### Task 4: Create a new DataFrame containing only the \"Bundesländer\" (hint: use the corresponding SATZART key)"
   ]
  },
  {
   "cell_type": "code",
   "execution_count": 120,
   "metadata": {
    "collapsed": false
   },
   "outputs": [],
   "source": []
  },
  {
   "cell_type": "markdown",
   "metadata": {},
   "source": [
    "### Task 5: Plot the age composition of the different Bundesländer"
   ]
  },
  {
   "cell_type": "code",
   "execution_count": 120,
   "metadata": {
    "collapsed": false
   },
   "outputs": [],
   "source": []
  },
  {
   "cell_type": "markdown",
   "metadata": {},
   "source": [
    "### Task 6: ...and now relative to the population in each Bundesland"
   ]
  },
  {
   "cell_type": "code",
   "execution_count": 120,
   "metadata": {
    "collapsed": false
   },
   "outputs": [],
   "source": []
  },
  {
   "cell_type": "markdown",
   "metadata": {},
   "source": [
    "### Task 7: Plot pie charts of the relative age distribution in Berlin and Sachsen"
   ]
  },
  {
   "cell_type": "code",
   "execution_count": 120,
   "metadata": {
    "collapsed": false
   },
   "outputs": [],
   "source": []
  },
  {
   "cell_type": "code",
   "execution_count": 120,
   "metadata": {
    "collapsed": false
   },
   "outputs": [],
   "source": []
  },
  {
   "cell_type": "markdown",
   "metadata": {},
   "source": [
    "###Task 8: Import a health care data set from Zeit online \n",
    "\n",
    "The file is in the git repository: `multiresistente_keime.xlsx`. Import it using the `read_excel` function.\n"
   ]
  },
  {
   "cell_type": "code",
   "execution_count": 120,
   "metadata": {
    "collapsed": false
   },
   "outputs": [],
   "source": []
  },
  {
   "cell_type": "markdown",
   "metadata": {},
   "source": [
    "### Task 9: Merge the two data sets (hint: \"Kreisschlüssel\" is the same as \"AGS\")"
   ]
  },
  {
   "cell_type": "code",
   "execution_count": 120,
   "metadata": {
    "collapsed": false
   },
   "outputs": [],
   "source": []
  },
  {
   "cell_type": "markdown",
   "metadata": {},
   "source": [
    "###  Task 10: Plot number of hospitalized patients per inhabitant against relative number of old people (65+)"
   ]
  },
  {
   "cell_type": "code",
   "execution_count": 120,
   "metadata": {
    "collapsed": false
   },
   "outputs": [],
   "source": []
  },
  {
   "cell_type": "markdown",
   "metadata": {},
   "source": [
    "### Task 11: Compute the correlation"
   ]
  },
  {
   "cell_type": "code",
   "execution_count": 120,
   "metadata": {
    "collapsed": false
   },
   "outputs": [],
   "source": []
  }
 ],
 "metadata": {
  "kernelspec": {
   "display_name": "Python 2",
   "language": "python",
   "name": "python2"
  },
  "language_info": {
   "codemirror_mode": {
    "name": "ipython",
    "version": 2
   },
   "file_extension": ".py",
   "mimetype": "text/x-python",
   "name": "python",
   "nbconvert_exporter": "python",
   "pygments_lexer": "ipython2",
   "version": "2.7.6"
  }
 },
 "nbformat": 4,
 "nbformat_minor": 0
}
