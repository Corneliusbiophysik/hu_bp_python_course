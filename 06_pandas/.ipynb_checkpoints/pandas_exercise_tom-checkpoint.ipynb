{
 "cells": [
  {
   "cell_type": "markdown",
   "metadata": {},
   "source": [
    "# Exercises"
   ]
  },
  {
   "cell_type": "code",
   "execution_count": 5,
   "metadata": {
    "collapsed": false
   },
   "outputs": [
    {
     "data": {
      "text/html": [
       "<div style=\"max-height:1000px;max-width:1500px;overflow:auto;\">\n",
       "<table border=\"1\" class=\"dataframe\">\n",
       "  <thead>\n",
       "    <tr style=\"text-align: right;\">\n",
       "      <th></th>\n",
       "      <th>carat</th>\n",
       "      <th>cut</th>\n",
       "      <th>color</th>\n",
       "      <th>clarity</th>\n",
       "      <th>depth</th>\n",
       "      <th>table</th>\n",
       "      <th>price</th>\n",
       "      <th>x</th>\n",
       "      <th>y</th>\n",
       "      <th>z</th>\n",
       "    </tr>\n",
       "  </thead>\n",
       "  <tbody>\n",
       "    <tr>\n",
       "      <th>1</th>\n",
       "      <td> 0.23</td>\n",
       "      <td>   Ideal</td>\n",
       "      <td> E</td>\n",
       "      <td> SI2</td>\n",
       "      <td> 61.5</td>\n",
       "      <td> 55</td>\n",
       "      <td> 326</td>\n",
       "      <td> 3.95</td>\n",
       "      <td> 3.98</td>\n",
       "      <td> 2.43</td>\n",
       "    </tr>\n",
       "    <tr>\n",
       "      <th>2</th>\n",
       "      <td> 0.21</td>\n",
       "      <td> Premium</td>\n",
       "      <td> E</td>\n",
       "      <td> SI1</td>\n",
       "      <td> 59.8</td>\n",
       "      <td> 61</td>\n",
       "      <td> 326</td>\n",
       "      <td> 3.89</td>\n",
       "      <td> 3.84</td>\n",
       "      <td> 2.31</td>\n",
       "    </tr>\n",
       "    <tr>\n",
       "      <th>3</th>\n",
       "      <td> 0.23</td>\n",
       "      <td>    Good</td>\n",
       "      <td> E</td>\n",
       "      <td> VS1</td>\n",
       "      <td> 56.9</td>\n",
       "      <td> 65</td>\n",
       "      <td> 327</td>\n",
       "      <td> 4.05</td>\n",
       "      <td> 4.07</td>\n",
       "      <td> 2.31</td>\n",
       "    </tr>\n",
       "    <tr>\n",
       "      <th>4</th>\n",
       "      <td> 0.29</td>\n",
       "      <td> Premium</td>\n",
       "      <td> I</td>\n",
       "      <td> VS2</td>\n",
       "      <td> 62.4</td>\n",
       "      <td> 58</td>\n",
       "      <td> 334</td>\n",
       "      <td> 4.20</td>\n",
       "      <td> 4.23</td>\n",
       "      <td> 2.63</td>\n",
       "    </tr>\n",
       "    <tr>\n",
       "      <th>5</th>\n",
       "      <td> 0.31</td>\n",
       "      <td>    Good</td>\n",
       "      <td> J</td>\n",
       "      <td> SI2</td>\n",
       "      <td> 63.3</td>\n",
       "      <td> 58</td>\n",
       "      <td> 335</td>\n",
       "      <td> 4.34</td>\n",
       "      <td> 4.35</td>\n",
       "      <td> 2.75</td>\n",
       "    </tr>\n",
       "  </tbody>\n",
       "</table>\n",
       "</div>"
      ],
      "text/plain": [
       "   carat      cut color clarity  depth  table  price     x     y     z\n",
       "1   0.23    Ideal     E     SI2   61.5     55    326  3.95  3.98  2.43\n",
       "2   0.21  Premium     E     SI1   59.8     61    326  3.89  3.84  2.31\n",
       "3   0.23     Good     E     VS1   56.9     65    327  4.05  4.07  2.31\n",
       "4   0.29  Premium     I     VS2   62.4     58    334  4.20  4.23  2.63\n",
       "5   0.31     Good     J     SI2   63.3     58    335  4.34  4.35  2.75"
      ]
     },
     "execution_count": 5,
     "metadata": {},
     "output_type": "execute_result"
    }
   ],
   "source": [
    "import pandas as pd\n",
    "from matplotlib import pyplot as plt\n",
    "plt.style.use('ggplot')\n",
    "%matplotlib inline\n",
    "diamonds = pd.read_csv('diamonds.csv',index_col=0)\n",
    "diamonds.head()"
   ]
  },
  {
   "cell_type": "markdown",
   "metadata": {},
   "source": [
    "### Task 1: Find all the diamonds with more than 2 carat and plot their price distribution in a histogram"
   ]
  },
  {
   "cell_type": "code",
   "execution_count": 43,
   "metadata": {
    "collapsed": false
   },
   "outputs": [
    {
     "data": {
      "text/plain": [
       "<matplotlib.axes._subplots.AxesSubplot at 0x7f5284c36410>"
      ]
     },
     "execution_count": 43,
     "metadata": {},
     "output_type": "execute_result"
    },
    {
     "data": {
      "image/png": "[encoded data removed]",
      "text/plain": [
       "<matplotlib.figure.Figure at 0x7f5284b31d90>"
      ]
     },
     "metadata": {},
     "output_type": "display_data"
    }
   ],
   "source": [
    "diamonds[diamonds['carat']>2]['price'].plot(kind='hist')"
   ]
  },
  {
   "cell_type": "markdown",
   "metadata": {},
   "source": [
    "### Task 2: compute and plot the standard deviation of the x dimension for the different cuts"
   ]
  },
  {
   "cell_type": "code",
   "execution_count": 50,
   "metadata": {
    "collapsed": false
   },
   "outputs": [
    {
     "data": {
      "text/plain": [
       "<matplotlib.axes._subplots.AxesSubplot at 0x7f52847e1e90>"
      ]
     },
     "execution_count": 50,
     "metadata": {},
     "output_type": "execute_result"
    },
    {
     "data": {
      "image/png": "[encoded data removed]",
      "text/plain": [
       "<matplotlib.figure.Figure at 0x7f52847f4ad0>"
      ]
     },
     "metadata": {},
     "output_type": "display_data"
    }
   ],
   "source": [
    "diamonds.groupby('cut')['x'].std().plot()"
   ]
  },
  {
   "cell_type": "markdown",
   "metadata": {},
   "source": [
    "###Task 3: Import the \"Kernmerkmale Bevölkerung (Geschlecht, Deutsche/Ausländer, 5 Altersgruppen)\" data set\n",
    "\n",
    "https://www.destatis.de/DE/PresseService/Presse/Pressekonferenzen/2013/Zensus2011/zensus_pk.html\n",
    "\n",
    "download the excel file and use the `read_excel` method in pandas (hint: useful arguments are `sheetname`, `header` and `index_col`"
   ]
  },
  {
   "cell_type": "code",
   "execution_count": 157,
   "metadata": {
    "collapsed": false
   },
   "outputs": [
    {
     "data": {
      "text/html": [
       "<div style=\"max-height:1000px;max-width:1500px;overflow:auto;\">\n",
       "<table border=\"1\" class=\"dataframe\">\n",
       "  <thead>\n",
       "    <tr style=\"text-align: right;\">\n",
       "      <th></th>\n",
       "      <th>SATZART</th>\n",
       "      <th>NAME</th>\n",
       "      <th>EWZ</th>\n",
       "      <th>EW_M</th>\n",
       "      <th>EW_W</th>\n",
       "      <th>EW_D</th>\n",
       "      <th>EW_A</th>\n",
       "      <th>ALTER_1</th>\n",
       "      <th>ALTER_2</th>\n",
       "      <th>ALTER_3</th>\n",
       "      <th>ALTER_4</th>\n",
       "      <th>ALTER_5</th>\n",
       "    </tr>\n",
       "    <tr>\n",
       "      <th>AGS</th>\n",
       "      <th></th>\n",
       "      <th></th>\n",
       "      <th></th>\n",
       "      <th></th>\n",
       "      <th></th>\n",
       "      <th></th>\n",
       "      <th></th>\n",
       "      <th></th>\n",
       "      <th></th>\n",
       "      <th></th>\n",
       "      <th></th>\n",
       "      <th></th>\n",
       "    </tr>\n",
       "  </thead>\n",
       "  <tbody>\n",
       "    <tr>\n",
       "      <th>0          </th>\n",
       "      <td>  0</td>\n",
       "      <td>                             Deutschland</td>\n",
       "      <td> 80219695</td>\n",
       "      <td> 39153540</td>\n",
       "      <td> 41066140</td>\n",
       "      <td> 74050320</td>\n",
       "      <td> 6169360</td>\n",
       "      <td> 13138580</td>\n",
       "      <td> 11391700</td>\n",
       "      <td> 22838880</td>\n",
       "      <td> 16333080</td>\n",
       "      <td> 16517450</td>\n",
       "    </tr>\n",
       "    <tr>\n",
       "      <th>1          </th>\n",
       "      <td> 10</td>\n",
       "      <td>                      Schleswig-Holstein</td>\n",
       "      <td>  2800119</td>\n",
       "      <td>  1360530</td>\n",
       "      <td>  1439590</td>\n",
       "      <td>  2683670</td>\n",
       "      <td>  116450</td>\n",
       "      <td>   477010</td>\n",
       "      <td>   362390</td>\n",
       "      <td>   790060</td>\n",
       "      <td>   563490</td>\n",
       "      <td>   607170</td>\n",
       "    </tr>\n",
       "    <tr>\n",
       "      <th>10         </th>\n",
       "      <td> 20</td>\n",
       "      <td> Schleswig-Holstein (fiktiver Reg.-Bez.)</td>\n",
       "      <td>  2800119</td>\n",
       "      <td>  1360530</td>\n",
       "      <td>  1439590</td>\n",
       "      <td>  2683670</td>\n",
       "      <td>  116450</td>\n",
       "      <td>   477010</td>\n",
       "      <td>   362390</td>\n",
       "      <td>   790060</td>\n",
       "      <td>   563490</td>\n",
       "      <td>   607170</td>\n",
       "    </tr>\n",
       "    <tr>\n",
       "      <th>1001       </th>\n",
       "      <td> 40</td>\n",
       "      <td>                        Flensburg, Stadt</td>\n",
       "      <td>    82258</td>\n",
       "      <td>    40660</td>\n",
       "      <td>    41590</td>\n",
       "      <td>    77140</td>\n",
       "      <td>    5120</td>\n",
       "      <td>    12150</td>\n",
       "      <td>    15640</td>\n",
       "      <td>    22130</td>\n",
       "      <td>    15560</td>\n",
       "      <td>    16770</td>\n",
       "    </tr>\n",
       "    <tr>\n",
       "      <th>10010000   </th>\n",
       "      <td> 50</td>\n",
       "      <td>                        Flensburg, Stadt</td>\n",
       "      <td>    82258</td>\n",
       "      <td>    40660</td>\n",
       "      <td>    41590</td>\n",
       "      <td>    77140</td>\n",
       "      <td>    5120</td>\n",
       "      <td>    12150</td>\n",
       "      <td>    15640</td>\n",
       "      <td>    22130</td>\n",
       "      <td>    15560</td>\n",
       "      <td>    16770</td>\n",
       "    </tr>\n",
       "    <tr>\n",
       "      <th>10010000000</th>\n",
       "      <td> 60</td>\n",
       "      <td>                        Flensburg, Stadt</td>\n",
       "      <td>    82258</td>\n",
       "      <td>    40660</td>\n",
       "      <td>    41590</td>\n",
       "      <td>    77140</td>\n",
       "      <td>    5120</td>\n",
       "      <td>    12150</td>\n",
       "      <td>    15640</td>\n",
       "      <td>    22130</td>\n",
       "      <td>    15560</td>\n",
       "      <td>    16770</td>\n",
       "    </tr>\n",
       "    <tr>\n",
       "      <th>1002       </th>\n",
       "      <td> 40</td>\n",
       "      <td>                  Kiel, Landeshauptstadt</td>\n",
       "      <td>   235782</td>\n",
       "      <td>   113400</td>\n",
       "      <td>   122380</td>\n",
       "      <td>   219670</td>\n",
       "      <td>   16120</td>\n",
       "      <td>    33940</td>\n",
       "      <td>    49130</td>\n",
       "      <td>    67910</td>\n",
       "      <td>    41730</td>\n",
       "      <td>    43090</td>\n",
       "    </tr>\n",
       "    <tr>\n",
       "      <th>10020000   </th>\n",
       "      <td> 50</td>\n",
       "      <td>                  Kiel, Landeshauptstadt</td>\n",
       "      <td>   235782</td>\n",
       "      <td>   113400</td>\n",
       "      <td>   122380</td>\n",
       "      <td>   219670</td>\n",
       "      <td>   16120</td>\n",
       "      <td>    33940</td>\n",
       "      <td>    49130</td>\n",
       "      <td>    67910</td>\n",
       "      <td>    41730</td>\n",
       "      <td>    43090</td>\n",
       "    </tr>\n",
       "    <tr>\n",
       "      <th>10020000000</th>\n",
       "      <td> 60</td>\n",
       "      <td>                  Kiel, Landeshauptstadt</td>\n",
       "      <td>   235782</td>\n",
       "      <td>   113400</td>\n",
       "      <td>   122380</td>\n",
       "      <td>   219670</td>\n",
       "      <td>   16120</td>\n",
       "      <td>    33940</td>\n",
       "      <td>    49130</td>\n",
       "      <td>    67910</td>\n",
       "      <td>    41730</td>\n",
       "      <td>    43090</td>\n",
       "    </tr>\n",
       "    <tr>\n",
       "      <th>1003       </th>\n",
       "      <td> 40</td>\n",
       "      <td>                      Lübeck, Hansestadt</td>\n",
       "      <td>   210305</td>\n",
       "      <td>    99880</td>\n",
       "      <td>   110420</td>\n",
       "      <td>   197390</td>\n",
       "      <td>   12910</td>\n",
       "      <td>    31590</td>\n",
       "      <td>    31520</td>\n",
       "      <td>    58380</td>\n",
       "      <td>    40390</td>\n",
       "      <td>    48420</td>\n",
       "    </tr>\n",
       "    <tr>\n",
       "      <th>10030000   </th>\n",
       "      <td> 50</td>\n",
       "      <td>                      Lübeck, Hansestadt</td>\n",
       "      <td>   210305</td>\n",
       "      <td>    99880</td>\n",
       "      <td>   110420</td>\n",
       "      <td>   197390</td>\n",
       "      <td>   12910</td>\n",
       "      <td>    31590</td>\n",
       "      <td>    31520</td>\n",
       "      <td>    58380</td>\n",
       "      <td>    40390</td>\n",
       "      <td>    48420</td>\n",
       "    </tr>\n",
       "    <tr>\n",
       "      <th>10030000000</th>\n",
       "      <td> 60</td>\n",
       "      <td>                      Lübeck, Hansestadt</td>\n",
       "      <td>   210305</td>\n",
       "      <td>    99880</td>\n",
       "      <td>   110420</td>\n",
       "      <td>   197390</td>\n",
       "      <td>   12910</td>\n",
       "      <td>    31590</td>\n",
       "      <td>    31520</td>\n",
       "      <td>    58380</td>\n",
       "      <td>    40390</td>\n",
       "      <td>    48420</td>\n",
       "    </tr>\n",
       "    <tr>\n",
       "      <th>1004       </th>\n",
       "      <td> 40</td>\n",
       "      <td>                       Neumünster, Stadt</td>\n",
       "      <td>    77249</td>\n",
       "      <td>    37650</td>\n",
       "      <td>    39600</td>\n",
       "      <td>    72470</td>\n",
       "      <td>    4780</td>\n",
       "      <td>    12900</td>\n",
       "      <td>    11320</td>\n",
       "      <td>    20820</td>\n",
       "      <td>    15250</td>\n",
       "      <td>    16960</td>\n",
       "    </tr>\n",
       "    <tr>\n",
       "      <th>10040000   </th>\n",
       "      <td> 50</td>\n",
       "      <td>                       Neumünster, Stadt</td>\n",
       "      <td>    77249</td>\n",
       "      <td>    37650</td>\n",
       "      <td>    39600</td>\n",
       "      <td>    72470</td>\n",
       "      <td>    4780</td>\n",
       "      <td>    12900</td>\n",
       "      <td>    11320</td>\n",
       "      <td>    20820</td>\n",
       "      <td>    15250</td>\n",
       "      <td>    16960</td>\n",
       "    </tr>\n",
       "    <tr>\n",
       "      <th>10040000000</th>\n",
       "      <td> 60</td>\n",
       "      <td>                       Neumünster, Stadt</td>\n",
       "      <td>    77249</td>\n",
       "      <td>    37650</td>\n",
       "      <td>    39600</td>\n",
       "      <td>    72470</td>\n",
       "      <td>    4780</td>\n",
       "      <td>    12900</td>\n",
       "      <td>    11320</td>\n",
       "      <td>    20820</td>\n",
       "      <td>    15250</td>\n",
       "      <td>    16960</td>\n",
       "    </tr>\n",
       "    <tr>\n",
       "      <th>1051       </th>\n",
       "      <td> 40</td>\n",
       "      <td>                            Dithmarschen</td>\n",
       "      <td>   133900</td>\n",
       "      <td>    65480</td>\n",
       "      <td>    68420</td>\n",
       "      <td>   130720</td>\n",
       "      <td>    3180</td>\n",
       "      <td>    23830</td>\n",
       "      <td>    16270</td>\n",
       "      <td>    35430</td>\n",
       "      <td>    27750</td>\n",
       "      <td>    30620</td>\n",
       "    </tr>\n",
       "    <tr>\n",
       "      <th>10510011   </th>\n",
       "      <td> 50</td>\n",
       "      <td>                      Brunsbüttel, Stadt</td>\n",
       "      <td>    12834</td>\n",
       "      <td>     6360</td>\n",
       "      <td>     6470</td>\n",
       "      <td>    12410</td>\n",
       "      <td>     430</td>\n",
       "      <td>     2180</td>\n",
       "      <td>     1610</td>\n",
       "      <td>     3330</td>\n",
       "      <td>     2880</td>\n",
       "      <td>     2840</td>\n",
       "    </tr>\n",
       "    <tr>\n",
       "      <th>10510011011</th>\n",
       "      <td> 60</td>\n",
       "      <td>                      Brunsbüttel, Stadt</td>\n",
       "      <td>    12834</td>\n",
       "      <td>     6360</td>\n",
       "      <td>     6470</td>\n",
       "      <td>    12410</td>\n",
       "      <td>     430</td>\n",
       "      <td>     2180</td>\n",
       "      <td>     1610</td>\n",
       "      <td>     3330</td>\n",
       "      <td>     2880</td>\n",
       "      <td>     2840</td>\n",
       "    </tr>\n",
       "    <tr>\n",
       "      <th>10510044   </th>\n",
       "      <td> 50</td>\n",
       "      <td>                            Heide, Stadt</td>\n",
       "      <td>    20768</td>\n",
       "      <td>     9740</td>\n",
       "      <td>    11030</td>\n",
       "      <td>    19840</td>\n",
       "      <td>     930</td>\n",
       "      <td>     3280</td>\n",
       "      <td>     3350</td>\n",
       "      <td>     5300</td>\n",
       "      <td>     3980</td>\n",
       "      <td>     4850</td>\n",
       "    </tr>\n",
       "    <tr>\n",
       "      <th>10510044044</th>\n",
       "      <td> 60</td>\n",
       "      <td>                            Heide, Stadt</td>\n",
       "      <td>    20768</td>\n",
       "      <td>     9740</td>\n",
       "      <td>    11030</td>\n",
       "      <td>    19840</td>\n",
       "      <td>     930</td>\n",
       "      <td>     3280</td>\n",
       "      <td>     3350</td>\n",
       "      <td>     5300</td>\n",
       "      <td>     3980</td>\n",
       "      <td>     4850</td>\n",
       "    </tr>\n",
       "  </tbody>\n",
       "</table>\n",
       "</div>"
      ],
      "text/plain": [
       "             SATZART                                     NAME       EWZ  \\\n",
       "AGS                                                                       \n",
       "0                  0                              Deutschland  80219695   \n",
       "1                 10                       Schleswig-Holstein   2800119   \n",
       "10                20  Schleswig-Holstein (fiktiver Reg.-Bez.)   2800119   \n",
       "1001              40                         Flensburg, Stadt     82258   \n",
       "10010000          50                         Flensburg, Stadt     82258   \n",
       "10010000000       60                         Flensburg, Stadt     82258   \n",
       "1002              40                   Kiel, Landeshauptstadt    235782   \n",
       "10020000          50                   Kiel, Landeshauptstadt    235782   \n",
       "10020000000       60                   Kiel, Landeshauptstadt    235782   \n",
       "1003              40                       Lübeck, Hansestadt    210305   \n",
       "10030000          50                       Lübeck, Hansestadt    210305   \n",
       "10030000000       60                       Lübeck, Hansestadt    210305   \n",
       "1004              40                        Neumünster, Stadt     77249   \n",
       "10040000          50                        Neumünster, Stadt     77249   \n",
       "10040000000       60                        Neumünster, Stadt     77249   \n",
       "1051              40                             Dithmarschen    133900   \n",
       "10510011          50                       Brunsbüttel, Stadt     12834   \n",
       "10510011011       60                       Brunsbüttel, Stadt     12834   \n",
       "10510044          50                             Heide, Stadt     20768   \n",
       "10510044044       60                             Heide, Stadt     20768   \n",
       "\n",
       "                 EW_M      EW_W      EW_D     EW_A   ALTER_1   ALTER_2  \\\n",
       "AGS                                                                      \n",
       "0            39153540  41066140  74050320  6169360  13138580  11391700   \n",
       "1             1360530   1439590   2683670   116450    477010    362390   \n",
       "10            1360530   1439590   2683670   116450    477010    362390   \n",
       "1001            40660     41590     77140     5120     12150     15640   \n",
       "10010000        40660     41590     77140     5120     12150     15640   \n",
       "10010000000     40660     41590     77140     5120     12150     15640   \n",
       "1002           113400    122380    219670    16120     33940     49130   \n",
       "10020000       113400    122380    219670    16120     33940     49130   \n",
       "10020000000    113400    122380    219670    16120     33940     49130   \n",
       "1003            99880    110420    197390    12910     31590     31520   \n",
       "10030000        99880    110420    197390    12910     31590     31520   \n",
       "10030000000     99880    110420    197390    12910     31590     31520   \n",
       "1004            37650     39600     72470     4780     12900     11320   \n",
       "10040000        37650     39600     72470     4780     12900     11320   \n",
       "10040000000     37650     39600     72470     4780     12900     11320   \n",
       "1051            65480     68420    130720     3180     23830     16270   \n",
       "10510011         6360      6470     12410      430      2180      1610   \n",
       "10510011011      6360      6470     12410      430      2180      1610   \n",
       "10510044         9740     11030     19840      930      3280      3350   \n",
       "10510044044      9740     11030     19840      930      3280      3350   \n",
       "\n",
       "              ALTER_3   ALTER_4   ALTER_5  \n",
       "AGS                                        \n",
       "0            22838880  16333080  16517450  \n",
       "1              790060    563490    607170  \n",
       "10             790060    563490    607170  \n",
       "1001            22130     15560     16770  \n",
       "10010000        22130     15560     16770  \n",
       "10010000000     22130     15560     16770  \n",
       "1002            67910     41730     43090  \n",
       "10020000        67910     41730     43090  \n",
       "10020000000     67910     41730     43090  \n",
       "1003            58380     40390     48420  \n",
       "10030000        58380     40390     48420  \n",
       "10030000000     58380     40390     48420  \n",
       "1004            20820     15250     16960  \n",
       "10040000        20820     15250     16960  \n",
       "10040000000     20820     15250     16960  \n",
       "1051            35430     27750     30620  \n",
       "10510011         3330      2880      2840  \n",
       "10510011011      3330      2880      2840  \n",
       "10510044         5300      3980      4850  \n",
       "10510044044      5300      3980      4850  "
      ]
     },
     "execution_count": 157,
     "metadata": {},
     "output_type": "execute_result"
    }
   ],
   "source": [
    "zensus=pd.read_excel('demo_excel.xls',sheetname=2,header=3,index_col=1)\n",
    "zensus.head(20)"
   ]
  },
  {
   "cell_type": "markdown",
   "metadata": {},
   "source": [
    "### Task 4: Create a new DataFrame containing only the \"Bundesländer\" (hint: use the corresponding SATZART key)"
   ]
  },
  {
   "cell_type": "code",
   "execution_count": 159,
   "metadata": {
    "collapsed": false
   },
   "outputs": [
    {
     "data": {
      "text/html": [
       "<div style=\"max-height:1000px;max-width:1500px;overflow:auto;\">\n",
       "<table border=\"1\" class=\"dataframe\">\n",
       "  <thead>\n",
       "    <tr style=\"text-align: right;\">\n",
       "      <th></th>\n",
       "      <th>SATZART</th>\n",
       "      <th>NAME</th>\n",
       "      <th>EWZ</th>\n",
       "      <th>EW_M</th>\n",
       "      <th>EW_W</th>\n",
       "      <th>EW_D</th>\n",
       "      <th>EW_A</th>\n",
       "      <th>ALTER_1</th>\n",
       "      <th>ALTER_2</th>\n",
       "      <th>ALTER_3</th>\n",
       "      <th>ALTER_4</th>\n",
       "      <th>ALTER_5</th>\n",
       "    </tr>\n",
       "    <tr>\n",
       "      <th>AGS</th>\n",
       "      <th></th>\n",
       "      <th></th>\n",
       "      <th></th>\n",
       "      <th></th>\n",
       "      <th></th>\n",
       "      <th></th>\n",
       "      <th></th>\n",
       "      <th></th>\n",
       "      <th></th>\n",
       "      <th></th>\n",
       "      <th></th>\n",
       "      <th></th>\n",
       "    </tr>\n",
       "  </thead>\n",
       "  <tbody>\n",
       "    <tr>\n",
       "      <th>1</th>\n",
       "      <td> 10</td>\n",
       "      <td>  Schleswig-Holstein</td>\n",
       "      <td>  2800119</td>\n",
       "      <td> 1360530</td>\n",
       "      <td> 1439590</td>\n",
       "      <td>  2683670</td>\n",
       "      <td>  116450</td>\n",
       "      <td>  477010</td>\n",
       "      <td>  362390</td>\n",
       "      <td>  790060</td>\n",
       "      <td>  563490</td>\n",
       "      <td>  607170</td>\n",
       "    </tr>\n",
       "    <tr>\n",
       "      <th>2</th>\n",
       "      <td> 10</td>\n",
       "      <td>             Hamburg</td>\n",
       "      <td>  1706696</td>\n",
       "      <td>  826140</td>\n",
       "      <td>  880560</td>\n",
       "      <td>  1495810</td>\n",
       "      <td>  210890</td>\n",
       "      <td>  267800</td>\n",
       "      <td>  275420</td>\n",
       "      <td>  537600</td>\n",
       "      <td>  301700</td>\n",
       "      <td>  324180</td>\n",
       "    </tr>\n",
       "    <tr>\n",
       "      <th>3</th>\n",
       "      <td> 10</td>\n",
       "      <td>       Niedersachsen</td>\n",
       "      <td>  7777992</td>\n",
       "      <td> 3804410</td>\n",
       "      <td> 3973590</td>\n",
       "      <td>  7351250</td>\n",
       "      <td>  426750</td>\n",
       "      <td> 1356370</td>\n",
       "      <td> 1049040</td>\n",
       "      <td> 2188170</td>\n",
       "      <td> 1569480</td>\n",
       "      <td> 1614940</td>\n",
       "    </tr>\n",
       "    <tr>\n",
       "      <th>4</th>\n",
       "      <td> 10</td>\n",
       "      <td>              Bremen</td>\n",
       "      <td>   650863</td>\n",
       "      <td>  316110</td>\n",
       "      <td>  334750</td>\n",
       "      <td>   580340</td>\n",
       "      <td>   70520</td>\n",
       "      <td>   98850</td>\n",
       "      <td>  105260</td>\n",
       "      <td>  181880</td>\n",
       "      <td>  126940</td>\n",
       "      <td>  137940</td>\n",
       "    </tr>\n",
       "    <tr>\n",
       "      <th>5</th>\n",
       "      <td> 10</td>\n",
       "      <td> Nordrhein-Westfalen</td>\n",
       "      <td> 17538251</td>\n",
       "      <td> 8521230</td>\n",
       "      <td> 9017020</td>\n",
       "      <td> 15931170</td>\n",
       "      <td> 1607080</td>\n",
       "      <td> 2984650</td>\n",
       "      <td> 2481470</td>\n",
       "      <td> 4993250</td>\n",
       "      <td> 3525620</td>\n",
       "      <td> 3553260</td>\n",
       "    </tr>\n",
       "  </tbody>\n",
       "</table>\n",
       "</div>"
      ],
      "text/plain": [
       "     SATZART                 NAME       EWZ     EW_M     EW_W      EW_D  \\\n",
       "AGS                                                                       \n",
       "1         10   Schleswig-Holstein   2800119  1360530  1439590   2683670   \n",
       "2         10              Hamburg   1706696   826140   880560   1495810   \n",
       "3         10        Niedersachsen   7777992  3804410  3973590   7351250   \n",
       "4         10               Bremen    650863   316110   334750    580340   \n",
       "5         10  Nordrhein-Westfalen  17538251  8521230  9017020  15931170   \n",
       "\n",
       "        EW_A  ALTER_1  ALTER_2  ALTER_3  ALTER_4  ALTER_5  \n",
       "AGS                                                        \n",
       "1     116450   477010   362390   790060   563490   607170  \n",
       "2     210890   267800   275420   537600   301700   324180  \n",
       "3     426750  1356370  1049040  2188170  1569480  1614940  \n",
       "4      70520    98850   105260   181880   126940   137940  \n",
       "5    1607080  2984650  2481470  4993250  3525620  3553260  "
      ]
     },
     "execution_count": 159,
     "metadata": {},
     "output_type": "execute_result"
    }
   ],
   "source": [
    "df=zensus[zensus['SATZART']==10]\n",
    "df.head()"
   ]
  },
  {
   "cell_type": "markdown",
   "metadata": {},
   "source": [
    "### Task 5: Plot the age composition of the different Bundesländer"
   ]
  },
  {
   "cell_type": "code",
   "execution_count": 160,
   "metadata": {
    "collapsed": false
   },
   "outputs": [
    {
     "data": {
      "text/plain": [
       "<matplotlib.axes._subplots.AxesSubplot at 0x7f5282d5c710>"
      ]
     },
     "execution_count": 160,
     "metadata": {},
     "output_type": "execute_result"
    },
    {
     "data": {
      "image/png": "[encoded data removed]",
      "text/plain": [
       "<matplotlib.figure.Figure at 0x7f5282d5cd90>"
      ]
     },
     "metadata": {},
     "output_type": "display_data"
    }
   ],
   "source": [
    "df.index=df[\"NAME\"]\n",
    "df2=df.filter(regex='ALT')\n",
    "df2.plot(kind='bar')"
   ]
  },
  {
   "cell_type": "markdown",
   "metadata": {},
   "source": [
    "### Task 6: ...and now relative to the population in each Bundesland"
   ]
  },
  {
   "cell_type": "code",
   "execution_count": 122,
   "metadata": {
    "collapsed": false
   },
   "outputs": [
    {
     "data": {
      "text/plain": [
       "<matplotlib.axes._subplots.AxesSubplot at 0x7f52833f9650>"
      ]
     },
     "execution_count": 122,
     "metadata": {},
     "output_type": "execute_result"
    },
    {
     "data": {
      "image/png": "[encoded data removed]",
      "text/plain": [
       "<matplotlib.figure.Figure at 0x7f5283495210>"
      ]
     },
     "metadata": {},
     "output_type": "display_data"
    }
   ],
   "source": [
    "dfnorm=df2.div(df[\"EWZ\"],axis=0)\n",
    "dfnorm.head()\n",
    "dfnorm.plot(kind='bar')"
   ]
  },
  {
   "cell_type": "markdown",
   "metadata": {},
   "source": [
    "### Task 7: Plot pie charts of the relative age distribution in Berlin and Sachsen"
   ]
  },
  {
   "cell_type": "code",
   "execution_count": 137,
   "metadata": {
    "collapsed": false
   },
   "outputs": [
    {
     "data": {
      "text/plain": [
       "<matplotlib.axes._subplots.AxesSubplot at 0x7f5283184990>"
      ]
     },
     "execution_count": 137,
     "metadata": {},
     "output_type": "execute_result"
    },
    {
     "data": {
      "image/png": "[encoded data removed]",
      "text/plain": [
       "<matplotlib.figure.Figure at 0x7f5282ff5ed0>"
      ]
     },
     "metadata": {},
     "output_type": "display_data"
    }
   ],
   "source": [
    "dfnorm.loc['Berlin'].plot(kind='pie')\n"
   ]
  },
  {
   "cell_type": "code",
   "execution_count": 138,
   "metadata": {
    "collapsed": false
   },
   "outputs": [
    {
     "data": {
      "text/plain": [
       "<matplotlib.axes._subplots.AxesSubplot at 0x7f5282f86790>"
      ]
     },
     "execution_count": 138,
     "metadata": {},
     "output_type": "execute_result"
    },
    {
     "data": {
      "image/png": "[encoded data removed]",
      "text/plain": [
       "<matplotlib.figure.Figure at 0x7f52836429d0>"
      ]
     },
     "metadata": {},
     "output_type": "display_data"
    }
   ],
   "source": [
    "dfnorm.loc['Sachsen'].plot(kind='pie')"
   ]
  },
  {
   "cell_type": "markdown",
   "metadata": {},
   "source": [
    "###Task 8: Import a health care data set from Zeit online \n",
    "\n",
    "The file is in the git repository: `multiresistente_keime.xlsx`. Import it using the `read_excel` function.\n"
   ]
  },
  {
   "cell_type": "code",
   "execution_count": 198,
   "metadata": {
    "collapsed": false
   },
   "outputs": [],
   "source": [
    "keime=pd.read_excel('multiresistente_keime.xlsx', sheetname=0)"
   ]
  },
  {
   "cell_type": "markdown",
   "metadata": {},
   "source": [
    "### Task 9: Merge the two data sets (hint: \"Kreisschlüssel\" is the same as \"AGS\")"
   ]
  },
  {
   "cell_type": "code",
   "execution_count": 218,
   "metadata": {
    "collapsed": false
   },
   "outputs": [
    {
     "data": {
      "text/html": [
       "<div style=\"max-height:1000px;max-width:1500px;overflow:auto;\">\n",
       "<table border=\"1\" class=\"dataframe\">\n",
       "  <thead>\n",
       "    <tr style=\"text-align: right;\">\n",
       "      <th></th>\n",
       "      <th>Kreisschlussel</th>\n",
       "      <th>Bundesland</th>\n",
       "      <th>Landkreis/Kreisfreie Stadt</th>\n",
       "      <th>Krankenhaus- Patienten 2013</th>\n",
       "      <th>MRE-Fälle 2013</th>\n",
       "      <th>MRE-Fälle pro 1000 Krankenhauspatienten 2013</th>\n",
       "      <th>ESBL-Diagnosen 2013</th>\n",
       "      <th>ESBL-Diagnosen pro 1000 Krankenhauspatienten 2013</th>\n",
       "      <th>VRE-Diagnosen 2013</th>\n",
       "      <th>VRE Diagnosen pro 1000 Krankenhauspatienten 2013</th>\n",
       "      <th>...</th>\n",
       "      <th>EWZ</th>\n",
       "      <th>EW_M</th>\n",
       "      <th>EW_W</th>\n",
       "      <th>EW_D</th>\n",
       "      <th>EW_A</th>\n",
       "      <th>ALTER_1</th>\n",
       "      <th>ALTER_2</th>\n",
       "      <th>ALTER_3</th>\n",
       "      <th>ALTER_4</th>\n",
       "      <th>ALTER_5</th>\n",
       "    </tr>\n",
       "  </thead>\n",
       "  <tbody>\n",
       "    <tr>\n",
       "      <th>1001</th>\n",
       "      <td> 1001</td>\n",
       "      <td> Schleswig-Holstein</td>\n",
       "      <td>       Flensburg, Stadt</td>\n",
       "      <td> 16653</td>\n",
       "      <td>  96</td>\n",
       "      <td> 5.764727</td>\n",
       "      <td>  58</td>\n",
       "      <td> 3.482856</td>\n",
       "      <td>   4</td>\n",
       "      <td> 0.240197</td>\n",
       "      <td>...</td>\n",
       "      <td>  82258</td>\n",
       "      <td>  40660</td>\n",
       "      <td>  41590</td>\n",
       "      <td>  77140</td>\n",
       "      <td>  5120</td>\n",
       "      <td> 12150</td>\n",
       "      <td> 15640</td>\n",
       "      <td> 22130</td>\n",
       "      <td> 15560</td>\n",
       "      <td> 16770</td>\n",
       "    </tr>\n",
       "    <tr>\n",
       "      <th>1002</th>\n",
       "      <td> 1002</td>\n",
       "      <td> Schleswig-Holstein</td>\n",
       "      <td> Kiel, Landeshauptstadt</td>\n",
       "      <td> 48454</td>\n",
       "      <td> 257</td>\n",
       "      <td> 5.304000</td>\n",
       "      <td> 199</td>\n",
       "      <td> 4.106988</td>\n",
       "      <td> 116</td>\n",
       "      <td> 2.394023</td>\n",
       "      <td>...</td>\n",
       "      <td> 235782</td>\n",
       "      <td> 113400</td>\n",
       "      <td> 122380</td>\n",
       "      <td> 219670</td>\n",
       "      <td> 16120</td>\n",
       "      <td> 33940</td>\n",
       "      <td> 49130</td>\n",
       "      <td> 67910</td>\n",
       "      <td> 41730</td>\n",
       "      <td> 43090</td>\n",
       "    </tr>\n",
       "    <tr>\n",
       "      <th>1003</th>\n",
       "      <td> 1003</td>\n",
       "      <td> Schleswig-Holstein</td>\n",
       "      <td>     Lübeck, Hansestadt</td>\n",
       "      <td> 46544</td>\n",
       "      <td> 453</td>\n",
       "      <td> 9.732726</td>\n",
       "      <td> 275</td>\n",
       "      <td> 5.908388</td>\n",
       "      <td>  84</td>\n",
       "      <td> 1.804744</td>\n",
       "      <td>...</td>\n",
       "      <td> 210305</td>\n",
       "      <td>  99880</td>\n",
       "      <td> 110420</td>\n",
       "      <td> 197390</td>\n",
       "      <td> 12910</td>\n",
       "      <td> 31590</td>\n",
       "      <td> 31520</td>\n",
       "      <td> 58380</td>\n",
       "      <td> 40390</td>\n",
       "      <td> 48420</td>\n",
       "    </tr>\n",
       "    <tr>\n",
       "      <th>1004</th>\n",
       "      <td> 1004</td>\n",
       "      <td> Schleswig-Holstein</td>\n",
       "      <td>      Neumünster, Stadt</td>\n",
       "      <td> 17175</td>\n",
       "      <td> 112</td>\n",
       "      <td> 6.521106</td>\n",
       "      <td>  96</td>\n",
       "      <td> 5.589520</td>\n",
       "      <td>  26</td>\n",
       "      <td> 1.513828</td>\n",
       "      <td>...</td>\n",
       "      <td>  77249</td>\n",
       "      <td>  37650</td>\n",
       "      <td>  39600</td>\n",
       "      <td>  72470</td>\n",
       "      <td>  4780</td>\n",
       "      <td> 12900</td>\n",
       "      <td> 11320</td>\n",
       "      <td> 20820</td>\n",
       "      <td> 15250</td>\n",
       "      <td> 16960</td>\n",
       "    </tr>\n",
       "    <tr>\n",
       "      <th>1051</th>\n",
       "      <td> 1051</td>\n",
       "      <td> Schleswig-Holstein</td>\n",
       "      <td>           Dithmarschen</td>\n",
       "      <td> 30391</td>\n",
       "      <td> 232</td>\n",
       "      <td> 7.633839</td>\n",
       "      <td> 103</td>\n",
       "      <td> 3.389161</td>\n",
       "      <td>   4</td>\n",
       "      <td> 0.131618</td>\n",
       "      <td>...</td>\n",
       "      <td> 133900</td>\n",
       "      <td>  65480</td>\n",
       "      <td>  68420</td>\n",
       "      <td> 130720</td>\n",
       "      <td>  3180</td>\n",
       "      <td> 23830</td>\n",
       "      <td> 16270</td>\n",
       "      <td> 35430</td>\n",
       "      <td> 27750</td>\n",
       "      <td> 30620</td>\n",
       "    </tr>\n",
       "  </tbody>\n",
       "</table>\n",
       "<p>5 rows × 29 columns</p>\n",
       "</div>"
      ],
      "text/plain": [
       "      Kreisschlussel          Bundesland Landkreis/Kreisfreie Stadt  \\\n",
       "1001            1001  Schleswig-Holstein           Flensburg, Stadt   \n",
       "1002            1002  Schleswig-Holstein     Kiel, Landeshauptstadt   \n",
       "1003            1003  Schleswig-Holstein         Lübeck, Hansestadt   \n",
       "1004            1004  Schleswig-Holstein          Neumünster, Stadt   \n",
       "1051            1051  Schleswig-Holstein               Dithmarschen   \n",
       "\n",
       "      Krankenhaus- Patienten 2013  MRE-Fälle 2013  \\\n",
       "1001                        16653              96   \n",
       "1002                        48454             257   \n",
       "1003                        46544             453   \n",
       "1004                        17175             112   \n",
       "1051                        30391             232   \n",
       "\n",
       "      MRE-Fälle pro 1000 Krankenhauspatienten 2013  ESBL-Diagnosen 2013  \\\n",
       "1001                                      5.764727                   58   \n",
       "1002                                      5.304000                  199   \n",
       "1003                                      9.732726                  275   \n",
       "1004                                      6.521106                   96   \n",
       "1051                                      7.633839                  103   \n",
       "\n",
       "      ESBL-Diagnosen pro 1000 Krankenhauspatienten 2013  VRE-Diagnosen 2013  \\\n",
       "1001                                           3.482856                   4   \n",
       "1002                                           4.106988                 116   \n",
       "1003                                           5.908388                  84   \n",
       "1004                                           5.589520                  26   \n",
       "1051                                           3.389161                   4   \n",
       "\n",
       "      VRE Diagnosen pro 1000 Krankenhauspatienten 2013   ...        EWZ  \\\n",
       "1001                                          0.240197   ...      82258   \n",
       "1002                                          2.394023   ...     235782   \n",
       "1003                                          1.804744   ...     210305   \n",
       "1004                                          1.513828   ...      77249   \n",
       "1051                                          0.131618   ...     133900   \n",
       "\n",
       "        EW_M    EW_W    EW_D   EW_A ALTER_1 ALTER_2  ALTER_3 ALTER_4  ALTER_5  \n",
       "1001   40660   41590   77140   5120   12150   15640    22130   15560    16770  \n",
       "1002  113400  122380  219670  16120   33940   49130    67910   41730    43090  \n",
       "1003   99880  110420  197390  12910   31590   31520    58380   40390    48420  \n",
       "1004   37650   39600   72470   4780   12900   11320    20820   15250    16960  \n",
       "1051   65480   68420  130720   3180   23830   16270    35430   27750    30620  \n",
       "\n",
       "[5 rows x 29 columns]"
      ]
     },
     "execution_count": 218,
     "metadata": {},
     "output_type": "execute_result"
    }
   ],
   "source": [
    "#keime=keime.rename(columns = {'Kreisschlussel':'AGS'})\n",
    "\n",
    "#zensus.index=zensus[\"AGS\"]\n",
    "keime2=keime\n",
    "keime2.index=keime[\"Kreisschlussel\"]\n",
    "gemerged=pd.merge(keime2,zensus,left_index=True,right_index=True,how='inner')\n",
    "\n",
    "#gemerged.index=gemerged['NAME']\n",
    "\n",
    "\n",
    "#gemerged.index=gemerged[\"Bundesland\"]\n",
    "gemerged.head()"
   ]
  },
  {
   "cell_type": "markdown",
   "metadata": {},
   "source": [
    "###  Task 10: Plot number of hospitalized patients per inhabitant against relative number of old people (65+)"
   ]
  },
  {
   "cell_type": "code",
   "execution_count": 220,
   "metadata": {
    "collapsed": false,
    "scrolled": true
   },
   "outputs": [
    {
     "data": {
      "text/plain": [
       "<matplotlib.collections.PathCollection at 0x7f5282539e50>"
      ]
     },
     "execution_count": 220,
     "metadata": {},
     "output_type": "execute_result"
    },
    {
     "data": {
      "image/png": "[encoded data removed]",
      "text/plain": [
       "<matplotlib.figure.Figure at 0x7f5282598c10>"
      ]
     },
     "metadata": {},
     "output_type": "display_data"
    }
   ],
   "source": [
    "x=gemerged[\"Krankenhaus- Patienten 2013\"].div(gemerged['EWZ'],axis=0)\n",
    "y=gemerged[\"ALTER_5\"].div(gemerged['EWZ'],axis=0)\n",
    "\n",
    "from matplotlib import pyplot as plt\n",
    "plt.scatter(x,y)\n",
    "#plt.setp(xlabel='Patienten',ylabel='Alte')"
   ]
  },
  {
   "cell_type": "markdown",
   "metadata": {},
   "source": [
    "### Task 11: Compute the correlation"
   ]
  },
  {
   "cell_type": "code",
   "execution_count": 120,
   "metadata": {
    "collapsed": false
   },
   "outputs": [],
   "source": []
  }
 ],
 "metadata": {
  "kernelspec": {
   "display_name": "Python 2",
   "language": "python",
   "name": "python2"
  },
  "language_info": {
   "codemirror_mode": {
    "name": "ipython",
    "version": 2
   },
   "file_extension": ".py",
   "mimetype": "text/x-python",
   "name": "python",
   "nbconvert_exporter": "python",
   "pygments_lexer": "ipython2",
   "version": "2.7.6"
  }
 },
 "nbformat": 4,
 "nbformat_minor": 0
}
