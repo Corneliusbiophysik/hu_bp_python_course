{
 "cells": [
  {
   "cell_type": "markdown",
   "metadata": {},
   "source": [
    "# Exercises"
   ]
  },
  {
   "cell_type": "code",
   "execution_count": 20,
   "metadata": {
    "collapsed": false
   },
   "outputs": [],
   "source": [
    "import pandas as pd\n",
    "from matplotlib import pyplot as plt\n",
    "plt.style.use('ggplot')\n",
    "%matplotlib inline\n",
    "diamonds = pd.read_csv('diamonds.csv',index_col=0)"
   ]
  },
  {
   "cell_type": "markdown",
   "metadata": {},
   "source": [
    "### Task 1: Find all the diamonds with more than 2 carat and plot their price distribution in a histogram"
   ]
  },
  {
   "cell_type": "code",
   "execution_count": 26,
   "metadata": {
    "collapsed": false
   },
   "outputs": [
    {
     "data": {
      "text/plain": [
       "<matplotlib.axes._subplots.AxesSubplot at 0x7fdeb08e6ed0>"
      ]
     },
     "execution_count": 26,
     "metadata": {},
     "output_type": "execute_result"
    },
    {
     "data": {
      "image/png": "[encoded data removed]",
      "text/plain": [
       "<matplotlib.figure.Figure at 0x7fdeb06c2450>"
      ]
     },
     "metadata": {},
     "output_type": "display_data"
    }
   ],
   "source": [
    "diamonds\n",
    "d = diamonds[diamonds['carat']>2]\n",
    "d.sort('carat')\n",
    "d['price'].plot(kind = 'hist')\n"
   ]
  },
  {
   "cell_type": "markdown",
   "metadata": {},
   "source": [
    "### Task 2: compute and plot the standard deviation of the x dimension for the different cuts"
   ]
  },
  {
   "cell_type": "code",
   "execution_count": 42,
   "metadata": {
    "collapsed": false
   },
   "outputs": [
    {
     "data": {
      "text/html": [
       "<div style=\"max-height:1000px;max-width:1500px;overflow:auto;\">\n",
       "<table border=\"1\" class=\"dataframe\">\n",
       "  <thead>\n",
       "    <tr style=\"text-align: right;\">\n",
       "      <th></th>\n",
       "      <th>carat</th>\n",
       "      <th>depth</th>\n",
       "      <th>table</th>\n",
       "      <th>price</th>\n",
       "      <th>x</th>\n",
       "      <th>y</th>\n",
       "      <th>z</th>\n",
       "    </tr>\n",
       "    <tr>\n",
       "      <th>cut</th>\n",
       "      <th></th>\n",
       "      <th></th>\n",
       "      <th></th>\n",
       "      <th></th>\n",
       "      <th></th>\n",
       "      <th></th>\n",
       "      <th></th>\n",
       "    </tr>\n",
       "  </thead>\n",
       "  <tbody>\n",
       "    <tr>\n",
       "      <th>Fair</th>\n",
       "      <td> 0.516404</td>\n",
       "      <td> 3.643428</td>\n",
       "      <td> 3.946261</td>\n",
       "      <td> 3560.386496</td>\n",
       "      <td> 0.964317</td>\n",
       "      <td> 0.956380</td>\n",
       "      <td> 0.651638</td>\n",
       "    </tr>\n",
       "    <tr>\n",
       "      <th>Good</th>\n",
       "      <td> 0.454054</td>\n",
       "      <td> 2.169374</td>\n",
       "      <td> 2.851300</td>\n",
       "      <td> 3681.589467</td>\n",
       "      <td> 1.057301</td>\n",
       "      <td> 1.051535</td>\n",
       "      <td> 0.654893</td>\n",
       "    </tr>\n",
       "    <tr>\n",
       "      <th>Ideal</th>\n",
       "      <td> 0.432876</td>\n",
       "      <td> 0.718539</td>\n",
       "      <td> 1.246423</td>\n",
       "      <td> 3808.401108</td>\n",
       "      <td> 1.064210</td>\n",
       "      <td> 1.074495</td>\n",
       "      <td> 0.657648</td>\n",
       "    </tr>\n",
       "    <tr>\n",
       "      <th>Premium</th>\n",
       "      <td> 0.515262</td>\n",
       "      <td> 1.158815</td>\n",
       "      <td> 1.478573</td>\n",
       "      <td> 4349.204870</td>\n",
       "      <td> 1.188252</td>\n",
       "      <td> 1.259751</td>\n",
       "      <td> 0.731161</td>\n",
       "    </tr>\n",
       "    <tr>\n",
       "      <th>Very Good</th>\n",
       "      <td> 0.459435</td>\n",
       "      <td> 1.378631</td>\n",
       "      <td> 2.121448</td>\n",
       "      <td> 3935.862040</td>\n",
       "      <td> 1.100839</td>\n",
       "      <td> 1.102924</td>\n",
       "      <td> 0.730228</td>\n",
       "    </tr>\n",
       "  </tbody>\n",
       "</table>\n",
       "</div>"
      ],
      "text/plain": [
       "              carat     depth     table        price         x         y  \\\n",
       "cut                                                                        \n",
       "Fair       0.516404  3.643428  3.946261  3560.386496  0.964317  0.956380   \n",
       "Good       0.454054  2.169374  2.851300  3681.589467  1.057301  1.051535   \n",
       "Ideal      0.432876  0.718539  1.246423  3808.401108  1.064210  1.074495   \n",
       "Premium    0.515262  1.158815  1.478573  4349.204870  1.188252  1.259751   \n",
       "Very Good  0.459435  1.378631  2.121448  3935.862040  1.100839  1.102924   \n",
       "\n",
       "                  z  \n",
       "cut                  \n",
       "Fair       0.651638  \n",
       "Good       0.654893  \n",
       "Ideal      0.657648  \n",
       "Premium    0.731161  \n",
       "Very Good  0.730228  "
      ]
     },
     "execution_count": 42,
     "metadata": {},
     "output_type": "execute_result"
    },
    {
     "data": {
      "image/png": "[encoded data removed]",
      "text/plain": [
       "<matplotlib.figure.Figure at 0x7fdeb09218d0>"
      ]
     },
     "metadata": {},
     "output_type": "display_data"
    }
   ],
   "source": [
    "s = diamonds.groupby('cut').std()\n",
    "s['x'].plot()\n",
    "s\n"
   ]
  },
  {
   "cell_type": "markdown",
   "metadata": {},
   "source": [
    "###Task 3: Import the \"Kernmerkmale Bevölkerung (Geschlecht, Deutsche/Ausländer, 5 Altersgruppen)\" data set\n",
    "\n",
    "https://www.destatis.de/DE/PresseService/Presse/Pressekonferenzen/2013/Zensus2011/zensus_pk.html\n",
    "\n",
    "download the excel file and use the `read_excel` method in pandas (hint: useful arguments are `sheetname`, `header` and `index_col`"
   ]
  },
  {
   "cell_type": "code",
   "execution_count": 46,
   "metadata": {
    "collapsed": false
   },
   "outputs": [],
   "source": [
    "b = pd.read_excel('demo_excel.xls;jsessionid=6F5BAE9844C77884D8C970391FAB6119.cae3', sheetname = 2, header = 3, index_col=1)"
   ]
  },
  {
   "cell_type": "markdown",
   "metadata": {},
   "source": [
    "### Task 4: Create a new DataFrame containing only the \"Bundesländer\" (hint: use the corresponding SATZART key)"
   ]
  },
  {
   "cell_type": "code",
   "execution_count": 55,
   "metadata": {
    "collapsed": false
   },
   "outputs": [
    {
     "data": {
      "text/html": [
       "<div style=\"max-height:1000px;max-width:1500px;overflow:auto;\">\n",
       "<table border=\"1\" class=\"dataframe\">\n",
       "  <thead>\n",
       "    <tr style=\"text-align: right;\">\n",
       "      <th></th>\n",
       "      <th>SATZART</th>\n",
       "      <th>NAME</th>\n",
       "      <th>EWZ</th>\n",
       "      <th>EW_M</th>\n",
       "      <th>EW_W</th>\n",
       "      <th>EW_D</th>\n",
       "      <th>EW_A</th>\n",
       "      <th>ALTER_1</th>\n",
       "      <th>ALTER_2</th>\n",
       "      <th>ALTER_3</th>\n",
       "      <th>ALTER_4</th>\n",
       "      <th>ALTER_5</th>\n",
       "    </tr>\n",
       "    <tr>\n",
       "      <th>AGS</th>\n",
       "      <th></th>\n",
       "      <th></th>\n",
       "      <th></th>\n",
       "      <th></th>\n",
       "      <th></th>\n",
       "      <th></th>\n",
       "      <th></th>\n",
       "      <th></th>\n",
       "      <th></th>\n",
       "      <th></th>\n",
       "      <th></th>\n",
       "      <th></th>\n",
       "    </tr>\n",
       "  </thead>\n",
       "  <tbody>\n",
       "    <tr>\n",
       "      <th>4 </th>\n",
       "      <td> 10</td>\n",
       "      <td>                 Bremen</td>\n",
       "      <td>   650863</td>\n",
       "      <td>  316110</td>\n",
       "      <td>  334750</td>\n",
       "      <td>   580340</td>\n",
       "      <td>   70520</td>\n",
       "      <td>   98850</td>\n",
       "      <td>  105260</td>\n",
       "      <td>  181880</td>\n",
       "      <td>  126940</td>\n",
       "      <td>  137940</td>\n",
       "    </tr>\n",
       "    <tr>\n",
       "      <th>10</th>\n",
       "      <td> 10</td>\n",
       "      <td>               Saarland</td>\n",
       "      <td>   999623</td>\n",
       "      <td>  485380</td>\n",
       "      <td>  514240</td>\n",
       "      <td>   933360</td>\n",
       "      <td>   66270</td>\n",
       "      <td>  148980</td>\n",
       "      <td>  135930</td>\n",
       "      <td>  269470</td>\n",
       "      <td>  224680</td>\n",
       "      <td>  220560</td>\n",
       "    </tr>\n",
       "    <tr>\n",
       "      <th>13</th>\n",
       "      <td> 10</td>\n",
       "      <td> Mecklenburg-Vorpommern</td>\n",
       "      <td>  1609982</td>\n",
       "      <td>  793310</td>\n",
       "      <td>  816670</td>\n",
       "      <td>  1582250</td>\n",
       "      <td>   27730</td>\n",
       "      <td>  215300</td>\n",
       "      <td>  228240</td>\n",
       "      <td>  434590</td>\n",
       "      <td>  375550</td>\n",
       "      <td>  356300</td>\n",
       "    </tr>\n",
       "    <tr>\n",
       "      <th>2 </th>\n",
       "      <td> 10</td>\n",
       "      <td>                Hamburg</td>\n",
       "      <td>  1706696</td>\n",
       "      <td>  826140</td>\n",
       "      <td>  880560</td>\n",
       "      <td>  1495810</td>\n",
       "      <td>  210890</td>\n",
       "      <td>  267800</td>\n",
       "      <td>  275420</td>\n",
       "      <td>  537600</td>\n",
       "      <td>  301700</td>\n",
       "      <td>  324180</td>\n",
       "    </tr>\n",
       "    <tr>\n",
       "      <th>16</th>\n",
       "      <td> 10</td>\n",
       "      <td>              Thüringen</td>\n",
       "      <td>  2188589</td>\n",
       "      <td> 1076410</td>\n",
       "      <td> 1112180</td>\n",
       "      <td>  2155360</td>\n",
       "      <td>   33230</td>\n",
       "      <td>  286960</td>\n",
       "      <td>  303570</td>\n",
       "      <td>  587720</td>\n",
       "      <td>  501650</td>\n",
       "      <td>  508700</td>\n",
       "    </tr>\n",
       "    <tr>\n",
       "      <th>15</th>\n",
       "      <td> 10</td>\n",
       "      <td>         Sachsen-Anhalt</td>\n",
       "      <td>  2287040</td>\n",
       "      <td> 1116850</td>\n",
       "      <td> 1170190</td>\n",
       "      <td>  2247810</td>\n",
       "      <td>   39230</td>\n",
       "      <td>  290700</td>\n",
       "      <td>  304600</td>\n",
       "      <td>  610810</td>\n",
       "      <td>  524660</td>\n",
       "      <td>  556270</td>\n",
       "    </tr>\n",
       "    <tr>\n",
       "      <th>12</th>\n",
       "      <td> 10</td>\n",
       "      <td>            Brandenburg</td>\n",
       "      <td>  2455780</td>\n",
       "      <td> 1207850</td>\n",
       "      <td> 1247920</td>\n",
       "      <td>  2413580</td>\n",
       "      <td>   42190</td>\n",
       "      <td>  337040</td>\n",
       "      <td>  309010</td>\n",
       "      <td>  691800</td>\n",
       "      <td>  562490</td>\n",
       "      <td>  555430</td>\n",
       "    </tr>\n",
       "    <tr>\n",
       "      <th>1 </th>\n",
       "      <td> 10</td>\n",
       "      <td>     Schleswig-Holstein</td>\n",
       "      <td>  2800119</td>\n",
       "      <td> 1360530</td>\n",
       "      <td> 1439590</td>\n",
       "      <td>  2683670</td>\n",
       "      <td>  116450</td>\n",
       "      <td>  477010</td>\n",
       "      <td>  362390</td>\n",
       "      <td>  790060</td>\n",
       "      <td>  563490</td>\n",
       "      <td>  607170</td>\n",
       "    </tr>\n",
       "    <tr>\n",
       "      <th>11</th>\n",
       "      <td> 10</td>\n",
       "      <td>                 Berlin</td>\n",
       "      <td>  3292365</td>\n",
       "      <td> 1599840</td>\n",
       "      <td> 1692530</td>\n",
       "      <td>  2920090</td>\n",
       "      <td>  372280</td>\n",
       "      <td>  494150</td>\n",
       "      <td>  535310</td>\n",
       "      <td> 1004770</td>\n",
       "      <td>  624090</td>\n",
       "      <td>  634030</td>\n",
       "    </tr>\n",
       "    <tr>\n",
       "      <th>7 </th>\n",
       "      <td> 10</td>\n",
       "      <td>        Rheinland-Pfalz</td>\n",
       "      <td>  3989808</td>\n",
       "      <td> 1950420</td>\n",
       "      <td> 2039380</td>\n",
       "      <td>  3718250</td>\n",
       "      <td>  271560</td>\n",
       "      <td>  664260</td>\n",
       "      <td>  562230</td>\n",
       "      <td> 1109500</td>\n",
       "      <td>  841540</td>\n",
       "      <td>  812270</td>\n",
       "    </tr>\n",
       "    <tr>\n",
       "      <th>14</th>\n",
       "      <td> 10</td>\n",
       "      <td>                Sachsen</td>\n",
       "      <td>  4056799</td>\n",
       "      <td> 1978040</td>\n",
       "      <td> 2078760</td>\n",
       "      <td>  3979760</td>\n",
       "      <td>   77030</td>\n",
       "      <td>  543160</td>\n",
       "      <td>  558590</td>\n",
       "      <td> 1077560</td>\n",
       "      <td>  870980</td>\n",
       "      <td> 1006500</td>\n",
       "    </tr>\n",
       "    <tr>\n",
       "      <th>6 </th>\n",
       "      <td> 10</td>\n",
       "      <td>                 Hessen</td>\n",
       "      <td>  5971816</td>\n",
       "      <td> 2914740</td>\n",
       "      <td> 3057080</td>\n",
       "      <td>  5311720</td>\n",
       "      <td>  660090</td>\n",
       "      <td> 1005660</td>\n",
       "      <td>  834310</td>\n",
       "      <td> 1746430</td>\n",
       "      <td> 1205160</td>\n",
       "      <td> 1180260</td>\n",
       "    </tr>\n",
       "    <tr>\n",
       "      <th>3 </th>\n",
       "      <td> 10</td>\n",
       "      <td>          Niedersachsen</td>\n",
       "      <td>  7777992</td>\n",
       "      <td> 3804410</td>\n",
       "      <td> 3973590</td>\n",
       "      <td>  7351250</td>\n",
       "      <td>  426750</td>\n",
       "      <td> 1356370</td>\n",
       "      <td> 1049040</td>\n",
       "      <td> 2188170</td>\n",
       "      <td> 1569480</td>\n",
       "      <td> 1614940</td>\n",
       "    </tr>\n",
       "    <tr>\n",
       "      <th>8 </th>\n",
       "      <td> 10</td>\n",
       "      <td>      Baden-Württemberg</td>\n",
       "      <td> 10486660</td>\n",
       "      <td> 5133480</td>\n",
       "      <td> 5353190</td>\n",
       "      <td>  9353030</td>\n",
       "      <td> 1133630</td>\n",
       "      <td> 1853540</td>\n",
       "      <td> 1547500</td>\n",
       "      <td> 2997710</td>\n",
       "      <td> 2053400</td>\n",
       "      <td> 2034520</td>\n",
       "    </tr>\n",
       "    <tr>\n",
       "      <th>9 </th>\n",
       "      <td> 10</td>\n",
       "      <td>                 Bayern</td>\n",
       "      <td> 12397614</td>\n",
       "      <td> 6062910</td>\n",
       "      <td> 6334700</td>\n",
       "      <td> 11383180</td>\n",
       "      <td> 1014430</td>\n",
       "      <td> 2112190</td>\n",
       "      <td> 1797760</td>\n",
       "      <td> 3613220</td>\n",
       "      <td> 2459360</td>\n",
       "      <td> 2415070</td>\n",
       "    </tr>\n",
       "    <tr>\n",
       "      <th>5 </th>\n",
       "      <td> 10</td>\n",
       "      <td>    Nordrhein-Westfalen</td>\n",
       "      <td> 17538251</td>\n",
       "      <td> 8521230</td>\n",
       "      <td> 9017020</td>\n",
       "      <td> 15931170</td>\n",
       "      <td> 1607080</td>\n",
       "      <td> 2984650</td>\n",
       "      <td> 2481470</td>\n",
       "      <td> 4993250</td>\n",
       "      <td> 3525620</td>\n",
       "      <td> 3553260</td>\n",
       "    </tr>\n",
       "  </tbody>\n",
       "</table>\n",
       "</div>"
      ],
      "text/plain": [
       "     SATZART                    NAME       EWZ     EW_M     EW_W      EW_D  \\\n",
       "AGS                                                                          \n",
       "4         10                  Bremen    650863   316110   334750    580340   \n",
       "10        10                Saarland    999623   485380   514240    933360   \n",
       "13        10  Mecklenburg-Vorpommern   1609982   793310   816670   1582250   \n",
       "2         10                 Hamburg   1706696   826140   880560   1495810   \n",
       "16        10               Thüringen   2188589  1076410  1112180   2155360   \n",
       "15        10          Sachsen-Anhalt   2287040  1116850  1170190   2247810   \n",
       "12        10             Brandenburg   2455780  1207850  1247920   2413580   \n",
       "1         10      Schleswig-Holstein   2800119  1360530  1439590   2683670   \n",
       "11        10                  Berlin   3292365  1599840  1692530   2920090   \n",
       "7         10         Rheinland-Pfalz   3989808  1950420  2039380   3718250   \n",
       "14        10                 Sachsen   4056799  1978040  2078760   3979760   \n",
       "6         10                  Hessen   5971816  2914740  3057080   5311720   \n",
       "3         10           Niedersachsen   7777992  3804410  3973590   7351250   \n",
       "8         10       Baden-Württemberg  10486660  5133480  5353190   9353030   \n",
       "9         10                  Bayern  12397614  6062910  6334700  11383180   \n",
       "5         10     Nordrhein-Westfalen  17538251  8521230  9017020  15931170   \n",
       "\n",
       "        EW_A  ALTER_1  ALTER_2  ALTER_3  ALTER_4  ALTER_5  \n",
       "AGS                                                        \n",
       "4      70520    98850   105260   181880   126940   137940  \n",
       "10     66270   148980   135930   269470   224680   220560  \n",
       "13     27730   215300   228240   434590   375550   356300  \n",
       "2     210890   267800   275420   537600   301700   324180  \n",
       "16     33230   286960   303570   587720   501650   508700  \n",
       "15     39230   290700   304600   610810   524660   556270  \n",
       "12     42190   337040   309010   691800   562490   555430  \n",
       "1     116450   477010   362390   790060   563490   607170  \n",
       "11    372280   494150   535310  1004770   624090   634030  \n",
       "7     271560   664260   562230  1109500   841540   812270  \n",
       "14     77030   543160   558590  1077560   870980  1006500  \n",
       "6     660090  1005660   834310  1746430  1205160  1180260  \n",
       "3     426750  1356370  1049040  2188170  1569480  1614940  \n",
       "8    1133630  1853540  1547500  2997710  2053400  2034520  \n",
       "9    1014430  2112190  1797760  3613220  2459360  2415070  \n",
       "5    1607080  2984650  2481470  4993250  3525620  3553260  "
      ]
     },
     "execution_count": 55,
     "metadata": {},
     "output_type": "execute_result"
    }
   ],
   "source": [
    "bund = b[b['SATZART']==10]\n",
    "bund\n",
    "bund.sort('EWZ')"
   ]
  },
  {
   "cell_type": "markdown",
   "metadata": {},
   "source": [
    "### Task 5: Plot the age composition of the different Bundesländer"
   ]
  },
  {
   "cell_type": "code",
   "execution_count": 86,
   "metadata": {
    "collapsed": false
   },
   "outputs": [
    {
     "name": "stdout",
     "output_type": "stream",
     "text": [
      "ALTER_1\n",
      "ALTER_2\n",
      "ALTER_3\n",
      "ALTER_4\n",
      "ALTER_5\n",
      "[u'ALTER_1', u'ALTER_2', u'ALTER_3', u'ALTER_4', u'ALTER_5']\n",
      "[u'ALTER_1', u'ALTER_2', u'ALTER_3', u'ALTER_4', u'ALTER_5']\n"
     ]
    },
    {
     "data": {
      "text/plain": [
       "Index([u'SATZART', u'NAME', u'EWZ', u'EW_M', u'EW_W', u'EW_D', u'EW_A', u'ALTER_1', u'ALTER_2', u'ALTER_3', u'ALTER_4', u'ALTER_5'], dtype='object')"
      ]
     },
     "execution_count": 86,
     "metadata": {},
     "output_type": "execute_result"
    },
    {
     "data": {
      "image/png": "[encoded data removed]",
      "text/plain": [
       "<matplotlib.figure.Figure at 0x7fdeaecfa910>"
      ]
     },
     "metadata": {},
     "output_type": "display_data"
    }
   ],
   "source": [
    "a = []\n",
    "for alt in bund.columns:\n",
    "    if 'ALTER_' in alt:\n",
    "        print alt\n",
    "        a.append(alt)\n",
    "        \n",
    "print a\n",
    "\n",
    "b = [alt for alt in bund.columns if 'ALTER' in alt]\n",
    "print b\n",
    "alter = bund.groupby(['NAME'])[a].sum()\n",
    "alter\n",
    "alter.plot(kind = 'barh', stacked = True)\n",
    "bund.columns\n"
   ]
  },
  {
   "cell_type": "markdown",
   "metadata": {},
   "source": [
    "### Task 6: ...and now relative to the population in each Bundesland"
   ]
  },
  {
   "cell_type": "code",
   "execution_count": 131,
   "metadata": {
    "collapsed": false
   },
   "outputs": [
    {
     "data": {
      "text/html": [
       "<div style=\"max-height:1000px;max-width:1500px;overflow:auto;\">\n",
       "<table border=\"1\" class=\"dataframe\">\n",
       "  <thead>\n",
       "    <tr style=\"text-align: right;\">\n",
       "      <th></th>\n",
       "      <th>ALTER_1</th>\n",
       "      <th>ALTER_2</th>\n",
       "      <th>ALTER_3</th>\n",
       "      <th>ALTER_4</th>\n",
       "      <th>ALTER_5</th>\n",
       "    </tr>\n",
       "    <tr>\n",
       "      <th>NAME</th>\n",
       "      <th></th>\n",
       "      <th></th>\n",
       "      <th></th>\n",
       "      <th></th>\n",
       "      <th></th>\n",
       "    </tr>\n",
       "  </thead>\n",
       "  <tbody>\n",
       "    <tr>\n",
       "      <th>Schleswig-Holstein</th>\n",
       "      <td> 0.170353</td>\n",
       "      <td> 0.129419</td>\n",
       "      <td> 0.282152</td>\n",
       "      <td> 0.201238</td>\n",
       "      <td> 0.216837</td>\n",
       "    </tr>\n",
       "    <tr>\n",
       "      <th>Hamburg</th>\n",
       "      <td> 0.156911</td>\n",
       "      <td> 0.161376</td>\n",
       "      <td> 0.314995</td>\n",
       "      <td> 0.176774</td>\n",
       "      <td> 0.189946</td>\n",
       "    </tr>\n",
       "    <tr>\n",
       "      <th>Niedersachsen</th>\n",
       "      <td> 0.174386</td>\n",
       "      <td> 0.134873</td>\n",
       "      <td> 0.281328</td>\n",
       "      <td> 0.201785</td>\n",
       "      <td> 0.207629</td>\n",
       "    </tr>\n",
       "    <tr>\n",
       "      <th>Bremen</th>\n",
       "      <td> 0.151875</td>\n",
       "      <td> 0.161724</td>\n",
       "      <td> 0.279444</td>\n",
       "      <td> 0.195033</td>\n",
       "      <td> 0.211934</td>\n",
       "    </tr>\n",
       "    <tr>\n",
       "      <th>Nordrhein-Westfalen</th>\n",
       "      <td> 0.170179</td>\n",
       "      <td> 0.141489</td>\n",
       "      <td> 0.284706</td>\n",
       "      <td> 0.201025</td>\n",
       "      <td> 0.202601</td>\n",
       "    </tr>\n",
       "    <tr>\n",
       "      <th>Hessen</th>\n",
       "      <td> 0.168401</td>\n",
       "      <td> 0.139708</td>\n",
       "      <td> 0.292445</td>\n",
       "      <td> 0.201808</td>\n",
       "      <td> 0.197638</td>\n",
       "    </tr>\n",
       "    <tr>\n",
       "      <th>Rheinland-Pfalz</th>\n",
       "      <td> 0.166489</td>\n",
       "      <td> 0.140917</td>\n",
       "      <td> 0.278084</td>\n",
       "      <td> 0.210922</td>\n",
       "      <td> 0.203586</td>\n",
       "    </tr>\n",
       "    <tr>\n",
       "      <th>Baden-Württemberg</th>\n",
       "      <td> 0.176752</td>\n",
       "      <td> 0.147568</td>\n",
       "      <td> 0.285859</td>\n",
       "      <td> 0.195811</td>\n",
       "      <td> 0.194010</td>\n",
       "    </tr>\n",
       "    <tr>\n",
       "      <th>Bayern</th>\n",
       "      <td> 0.170371</td>\n",
       "      <td> 0.145009</td>\n",
       "      <td> 0.291445</td>\n",
       "      <td> 0.198374</td>\n",
       "      <td> 0.194801</td>\n",
       "    </tr>\n",
       "    <tr>\n",
       "      <th>Saarland</th>\n",
       "      <td> 0.149036</td>\n",
       "      <td> 0.135981</td>\n",
       "      <td> 0.269572</td>\n",
       "      <td> 0.224765</td>\n",
       "      <td> 0.220643</td>\n",
       "    </tr>\n",
       "    <tr>\n",
       "      <th>Berlin</th>\n",
       "      <td> 0.150090</td>\n",
       "      <td> 0.162591</td>\n",
       "      <td> 0.305182</td>\n",
       "      <td> 0.189557</td>\n",
       "      <td> 0.192576</td>\n",
       "    </tr>\n",
       "    <tr>\n",
       "      <th>Brandenburg</th>\n",
       "      <td> 0.137244</td>\n",
       "      <td> 0.125830</td>\n",
       "      <td> 0.281703</td>\n",
       "      <td> 0.229047</td>\n",
       "      <td> 0.226173</td>\n",
       "    </tr>\n",
       "    <tr>\n",
       "      <th>Mecklenburg-Vorpommern</th>\n",
       "      <td> 0.133728</td>\n",
       "      <td> 0.141766</td>\n",
       "      <td> 0.269935</td>\n",
       "      <td> 0.233263</td>\n",
       "      <td> 0.221307</td>\n",
       "    </tr>\n",
       "    <tr>\n",
       "      <th>Sachsen</th>\n",
       "      <td> 0.133889</td>\n",
       "      <td> 0.137692</td>\n",
       "      <td> 0.265618</td>\n",
       "      <td> 0.214696</td>\n",
       "      <td> 0.248102</td>\n",
       "    </tr>\n",
       "    <tr>\n",
       "      <th>Sachsen-Anhalt</th>\n",
       "      <td> 0.127108</td>\n",
       "      <td> 0.133185</td>\n",
       "      <td> 0.267074</td>\n",
       "      <td> 0.229406</td>\n",
       "      <td> 0.243227</td>\n",
       "    </tr>\n",
       "    <tr>\n",
       "      <th>Thüringen</th>\n",
       "      <td> 0.131116</td>\n",
       "      <td> 0.138706</td>\n",
       "      <td> 0.268538</td>\n",
       "      <td> 0.229212</td>\n",
       "      <td> 0.232433</td>\n",
       "    </tr>\n",
       "  </tbody>\n",
       "</table>\n",
       "</div>"
      ],
      "text/plain": [
       "                         ALTER_1   ALTER_2   ALTER_3   ALTER_4   ALTER_5\n",
       "NAME                                                                    \n",
       "Schleswig-Holstein      0.170353  0.129419  0.282152  0.201238  0.216837\n",
       "Hamburg                 0.156911  0.161376  0.314995  0.176774  0.189946\n",
       "Niedersachsen           0.174386  0.134873  0.281328  0.201785  0.207629\n",
       "Bremen                  0.151875  0.161724  0.279444  0.195033  0.211934\n",
       "Nordrhein-Westfalen     0.170179  0.141489  0.284706  0.201025  0.202601\n",
       "Hessen                  0.168401  0.139708  0.292445  0.201808  0.197638\n",
       "Rheinland-Pfalz         0.166489  0.140917  0.278084  0.210922  0.203586\n",
       "Baden-Württemberg       0.176752  0.147568  0.285859  0.195811  0.194010\n",
       "Bayern                  0.170371  0.145009  0.291445  0.198374  0.194801\n",
       "Saarland                0.149036  0.135981  0.269572  0.224765  0.220643\n",
       "Berlin                  0.150090  0.162591  0.305182  0.189557  0.192576\n",
       "Brandenburg             0.137244  0.125830  0.281703  0.229047  0.226173\n",
       "Mecklenburg-Vorpommern  0.133728  0.141766  0.269935  0.233263  0.221307\n",
       "Sachsen                 0.133889  0.137692  0.265618  0.214696  0.248102\n",
       "Sachsen-Anhalt          0.127108  0.133185  0.267074  0.229406  0.243227\n",
       "Thüringen               0.131116  0.138706  0.268538  0.229212  0.232433"
      ]
     },
     "execution_count": 131,
     "metadata": {},
     "output_type": "execute_result"
    },
    {
     "data": {
      "image/png": "[encoded data removed]",
      "text/plain": [
       "<matplotlib.figure.Figure at 0x7fdea1501710>"
      ]
     },
     "metadata": {},
     "output_type": "display_data"
    }
   ],
   "source": [
    "b = [alt for alt in bund.columns if 'ALTER' in alt]\n",
    "bund.index = bund['NAME']\n",
    "rel = bund[b].div(bund['EWZ'], axis=0)\n",
    "rel.plot(kind = 'barh', stacked = True)\n",
    "rel"
   ]
  },
  {
   "cell_type": "markdown",
   "metadata": {},
   "source": [
    "### Task 7: Plot pie charts of the relative age distribution in Berlin and Sachsen"
   ]
  },
  {
   "cell_type": "code",
   "execution_count": 143,
   "metadata": {
    "collapsed": false
   },
   "outputs": [
    {
     "data": {
      "text/plain": [
       "<matplotlib.axes._subplots.AxesSubplot at 0x7fdea0a110d0>"
      ]
     },
     "execution_count": 143,
     "metadata": {},
     "output_type": "execute_result"
    },
    {
     "data": {
      "image/png": "[encoded data removed]",
      "text/plain": [
       "<matplotlib.figure.Figure at 0x7fdea0bf6c10>"
      ]
     },
     "metadata": {},
     "output_type": "display_data"
    }
   ],
   "source": [
    "\n",
    "ber = rel.loc['Berlin']\n",
    "ber\n",
    "ber.plot(kind='pie')\n"
   ]
  },
  {
   "cell_type": "code",
   "execution_count": 146,
   "metadata": {
    "collapsed": false
   },
   "outputs": [
    {
     "data": {
      "text/plain": [
       "<matplotlib.axes._subplots.AxesSubplot at 0x7fdea0c9cc50>"
      ]
     },
     "execution_count": 146,
     "metadata": {},
     "output_type": "execute_result"
    },
    {
     "data": {
      "image/png": "[encoded data removed]",
      "text/plain": [
       "<matplotlib.figure.Figure at 0x7fdea0d12710>"
      ]
     },
     "metadata": {},
     "output_type": "display_data"
    }
   ],
   "source": [
    "sac = rel.loc['Sachsen']\n",
    "sac\n",
    "sac.plot(kind='pie')"
   ]
  },
  {
   "cell_type": "markdown",
   "metadata": {},
   "source": [
    "###Task 8: Import a health care data set from Zeit online \n",
    "\n",
    "The file is in the git repository: `multiresistente_keime.xlsx`. Import it using the `read_excel` function.\n"
   ]
  },
  {
   "cell_type": "code",
   "execution_count": 120,
   "metadata": {
    "collapsed": false
   },
   "outputs": [],
   "source": []
  },
  {
   "cell_type": "markdown",
   "metadata": {},
   "source": [
    "### Task 9: Merge the two data sets (hint: \"Kreisschlüssel\" is the same as \"AGS\")"
   ]
  },
  {
   "cell_type": "code",
   "execution_count": 120,
   "metadata": {
    "collapsed": false
   },
   "outputs": [],
   "source": []
  },
  {
   "cell_type": "markdown",
   "metadata": {},
   "source": [
    "###  Task 10: Plot number of hospitalized patients per inhabitant against relative number of old people (65+)"
   ]
  },
  {
   "cell_type": "code",
   "execution_count": 120,
   "metadata": {
    "collapsed": false
   },
   "outputs": [],
   "source": []
  },
  {
   "cell_type": "markdown",
   "metadata": {},
   "source": [
    "### Task 11: Compute the correlation"
   ]
  },
  {
   "cell_type": "code",
   "execution_count": 120,
   "metadata": {
    "collapsed": false
   },
   "outputs": [],
   "source": []
  }
 ],
 "metadata": {
  "kernelspec": {
   "display_name": "Python 2",
   "language": "python",
   "name": "python2"
  },
  "language_info": {
   "codemirror_mode": {
    "name": "ipython",
    "version": 2
   },
   "file_extension": ".py",
   "mimetype": "text/x-python",
   "name": "python",
   "nbconvert_exporter": "python",
   "pygments_lexer": "ipython2",
   "version": "2.7.6"
  }
 },
 "nbformat": 4,
 "nbformat_minor": 0
}
